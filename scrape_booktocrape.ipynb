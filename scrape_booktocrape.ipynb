{
  "nbformat": 4,
  "nbformat_minor": 0,
  "metadata": {
    "colab": {
      "name": "scrape_booktocrape.ipynb",
      "provenance": []
    },
    "kernelspec": {
      "name": "python3",
      "display_name": "Python 3"
    },
    "language_info": {
      "name": "python"
    }
  },
  "cells": [
    {
      "cell_type": "markdown",
      "metadata": {
        "id": "ciBFUjOv8a3i"
      },
      "source": [
        "##                           Bestseller Book for Each Genres in \"books to scrape\" website"
      ]
    },
    {
      "cell_type": "markdown",
      "metadata": {
        "id": "40tQYlaQ8mXV"
      },
      "source": [
        "Project outline:\n",
        "I am going to scrab the webpage: https://books.toscrape.com/\n",
        "\n",
        "-I will get a list of genres.\n",
        "\n",
        "-For each genre,I will grab the all the book listed.\n",
        "\n",
        "-For each book, I will grab the book's name, price, availability, and urls.\n",
        "\n",
        "-For each genre, I will create a cvs file in the Following format:\n",
        "\n",
        "         book name,  price, availability, urls"
      ]
    },
    {
      "cell_type": "markdown",
      "metadata": {
        "id": "-udS77ip8qQV"
      },
      "source": [
        "# Download request library to download webpage"
      ]
    },
    {
      "cell_type": "code",
      "metadata": {
        "id": "00dSawJc8eKH"
      },
      "source": [
        "!pip install requests --upgrade --quiet\n"
      ],
      "execution_count": null,
      "outputs": []
    },
    {
      "cell_type": "code",
      "metadata": {
        "id": "6vlSDJfw8eVm"
      },
      "source": [
        "import requests"
      ],
      "execution_count": null,
      "outputs": []
    },
    {
      "cell_type": "code",
      "metadata": {
        "id": "wRxrxLV88-5K"
      },
      "source": [
        "topics_url = 'http://books.toscrape.com'\n"
      ],
      "execution_count": null,
      "outputs": []
    },
    {
      "cell_type": "code",
      "metadata": {
        "id": "6BRqSMl-9BBj"
      },
      "source": [
        "response = requests.get(topics_url)\n"
      ],
      "execution_count": null,
      "outputs": []
    },
    {
      "cell_type": "code",
      "metadata": {
        "colab": {
          "base_uri": "https://localhost:8080/"
        },
        "id": "V95gXpbe9ERk",
        "outputId": "d55812d9-d920-4a2b-d841-b33cce994d86"
      },
      "source": [
        "response.status_code\n"
      ],
      "execution_count": null,
      "outputs": [
        {
          "output_type": "execute_result",
          "data": {
            "text/plain": [
              "200"
            ]
          },
          "metadata": {},
          "execution_count": 5
        }
      ]
    },
    {
      "cell_type": "code",
      "metadata": {
        "colab": {
          "base_uri": "https://localhost:8080/"
        },
        "id": "CIFoKbTv9EUX",
        "outputId": "4e8820d4-9237-4c50-f167-317b005254fc"
      },
      "source": [
        "len(response.text)\n"
      ],
      "execution_count": null,
      "outputs": [
        {
          "output_type": "execute_result",
          "data": {
            "text/plain": [
              "51294"
            ]
          },
          "metadata": {},
          "execution_count": 6
        }
      ]
    },
    {
      "cell_type": "code",
      "metadata": {
        "colab": {
          "base_uri": "https://localhost:8080/",
          "height": 171
        },
        "id": "rkrvLwDd9Hww",
        "outputId": "496deff9-8497-4d7b-cd94-b779c83444a8"
      },
      "source": [
        "page_contents = response.text\n",
        "page_contents[:1000]\n",
        "\n"
      ],
      "execution_count": null,
      "outputs": [
        {
          "output_type": "execute_result",
          "data": {
            "application/vnd.google.colaboratory.intrinsic+json": {
              "type": "string"
            },
            "text/plain": [
              "'<!DOCTYPE html>\\n<!--[if lt IE 7]>      <html lang=\"en-us\" class=\"no-js lt-ie9 lt-ie8 lt-ie7\"> <![endif]-->\\n<!--[if IE 7]>         <html lang=\"en-us\" class=\"no-js lt-ie9 lt-ie8\"> <![endif]-->\\n<!--[if IE 8]>         <html lang=\"en-us\" class=\"no-js lt-ie9\"> <![endif]-->\\n<!--[if gt IE 8]><!--> <html lang=\"en-us\" class=\"no-js\"> <!--<![endif]-->\\n    <head>\\n        <title>\\n    All products | Books to Scrape - Sandbox\\n</title>\\n\\n        <meta http-equiv=\"content-type\" content=\"text/html; charset=UTF-8\" />\\n        <meta name=\"created\" content=\"24th Jun 2016 09:29\" />\\n        <meta name=\"description\" content=\"\" />\\n        <meta name=\"viewport\" content=\"width=device-width\" />\\n        <meta name=\"robots\" content=\"NOARCHIVE,NOCACHE\" />\\n\\n        <!-- Le HTML5 shim, for IE6-8 support of HTML elements -->\\n        <!--[if lt IE 9]>\\n        <script src=\"//html5shim.googlecode.com/svn/trunk/html5.js\"></script>\\n        <![endif]-->\\n\\n        \\n            <link rel=\"shortcut icon\" href=\"static/oscar/favicon.'"
            ]
          },
          "metadata": {},
          "execution_count": 7
        }
      ]
    },
    {
      "cell_type": "code",
      "metadata": {
        "id": "6lRaYiiX9Hz6"
      },
      "source": [
        "with open('webpage.html', 'w') as f:\n",
        "    f.write(page_contents)"
      ],
      "execution_count": null,
      "outputs": []
    },
    {
      "cell_type": "markdown",
      "metadata": {
        "id": "NRw0srKt9W_X"
      },
      "source": [
        "\n",
        "# Use Beautiful Soup to parse and extract information"
      ]
    },
    {
      "cell_type": "code",
      "metadata": {
        "id": "wDBep_nd9H2t"
      },
      "source": [
        "!pip install beautifulsoup4 --upgrade --quiet\n"
      ],
      "execution_count": null,
      "outputs": []
    },
    {
      "cell_type": "code",
      "metadata": {
        "id": "ShcllvLe9H5K"
      },
      "source": [
        "from bs4 import BeautifulSoup\n",
        "import re\n"
      ],
      "execution_count": null,
      "outputs": []
    },
    {
      "cell_type": "code",
      "metadata": {
        "id": "5byxIPjT9yEa"
      },
      "source": [
        "doc = BeautifulSoup(page_contents, 'html.parser')\n"
      ],
      "execution_count": null,
      "outputs": []
    },
    {
      "cell_type": "code",
      "metadata": {
        "colab": {
          "base_uri": "https://localhost:8080/",
          "height": 171
        },
        "id": "MNcgqVMy9yHS",
        "outputId": "948f73c4-9dd6-44f3-d85d-84700f955958"
      },
      "source": [
        "doc.prettify()"
      ],
      "execution_count": null,
      "outputs": [
        {
          "output_type": "execute_result",
          "data": {
            "application/vnd.google.colaboratory.intrinsic+json": {
              "type": "string"
            },
            "text/plain": [
              "'<!DOCTYPE html>\\n<!--[if lt IE 7]>      <html lang=\"en-us\" class=\"no-js lt-ie9 lt-ie8 lt-ie7\"> <![endif]-->\\n<!--[if IE 7]>         <html lang=\"en-us\" class=\"no-js lt-ie9 lt-ie8\"> <![endif]-->\\n<!--[if IE 8]>         <html lang=\"en-us\" class=\"no-js lt-ie9\"> <![endif]-->\\n<!--[if gt IE 8]><!-->\\n<html class=\"no-js\" lang=\"en-us\">\\n <!--<![endif]-->\\n <head>\\n  <title>\\n   All products | Books to Scrape - Sandbox\\n  </title>\\n  <meta content=\"text/html; charset=utf-8\" http-equiv=\"content-type\"/>\\n  <meta content=\"24th Jun 2016 09:29\" name=\"created\"/>\\n  <meta content=\"\" name=\"description\"/>\\n  <meta content=\"width=device-width\" name=\"viewport\"/>\\n  <meta content=\"NOARCHIVE,NOCACHE\" name=\"robots\"/>\\n  <!-- Le HTML5 shim, for IE6-8 support of HTML elements -->\\n  <!--[if lt IE 9]>\\n        <script src=\"//html5shim.googlecode.com/svn/trunk/html5.js\"></script>\\n        <![endif]-->\\n  <link href=\"static/oscar/favicon.ico\" rel=\"shortcut icon\"/>\\n  <link href=\"static/oscar/css/styles.css\" rel=\"stylesheet\" type=\"text/css\"/>\\n  <link href=\"static/oscar/js/bootstrap-datetimepicker/bootstrap-datetimepicker.css\" rel=\"stylesheet\"/>\\n  <link href=\"static/oscar/css/datetimepicker.css\" rel=\"stylesheet\" type=\"text/css\"/>\\n </head>\\n <body class=\"default\" id=\"default\">\\n  <header class=\"header container-fluid\">\\n   <div class=\"page_inner\">\\n    <div class=\"row\">\\n     <div class=\"col-sm-8 h1\">\\n      <a href=\"index.html\">\\n       Books to Scrape\\n      </a>\\n      <small>\\n       We love being scraped!\\n      </small>\\n     </div>\\n    </div>\\n   </div>\\n  </header>\\n  <div class=\"container-fluid page\">\\n   <div class=\"page_inner\">\\n    <ul class=\"breadcrumb\">\\n     <li>\\n      <a href=\"index.html\">\\n       Home\\n      </a>\\n     </li>\\n     <li class=\"active\">\\n      All products\\n     </li>\\n    </ul>\\n    <div class=\"row\">\\n     <aside class=\"sidebar col-sm-4 col-md-3\">\\n      <div id=\"promotions_left\">\\n      </div>\\n      <div class=\"side_categories\">\\n       <ul class=\"nav nav-list\">\\n        <li>\\n         <a href=\"catalogue/category/books_1/index.html\">\\n          Books\\n         </a>\\n         <ul>\\n          <li>\\n           <a href=\"catalogue/category/books/travel_2/index.html\">\\n            Travel\\n           </a>\\n          </li>\\n          <li>\\n           <a href=\"catalogue/category/books/mystery_3/index.html\">\\n            Mystery\\n           </a>\\n          </li>\\n          <li>\\n           <a href=\"catalogue/category/books/historical-fiction_4/index.html\">\\n            Historical Fiction\\n           </a>\\n          </li>\\n          <li>\\n           <a href=\"catalogue/category/books/sequential-art_5/index.html\">\\n            Sequential Art\\n           </a>\\n          </li>\\n          <li>\\n           <a href=\"catalogue/category/books/classics_6/index.html\">\\n            Classics\\n           </a>\\n          </li>\\n          <li>\\n           <a href=\"catalogue/category/books/philosophy_7/index.html\">\\n            Philosophy\\n           </a>\\n          </li>\\n          <li>\\n           <a href=\"catalogue/category/books/romance_8/index.html\">\\n            Romance\\n           </a>\\n          </li>\\n          <li>\\n           <a href=\"catalogue/category/books/womens-fiction_9/index.html\">\\n            Womens Fiction\\n           </a>\\n          </li>\\n          <li>\\n           <a href=\"catalogue/category/books/fiction_10/index.html\">\\n            Fiction\\n           </a>\\n          </li>\\n          <li>\\n           <a href=\"catalogue/category/books/childrens_11/index.html\">\\n            Childrens\\n           </a>\\n          </li>\\n          <li>\\n           <a href=\"catalogue/category/books/religion_12/index.html\">\\n            Religion\\n           </a>\\n          </li>\\n          <li>\\n           <a href=\"catalogue/category/books/nonfiction_13/index.html\">\\n            Nonfiction\\n           </a>\\n          </li>\\n          <li>\\n           <a href=\"catalogue/category/books/music_14/index.html\">\\n            Music\\n           </a>\\n          </li>\\n          <li>\\n           <a href=\"catalogue/category/books/default_15/index.html\">\\n            Default\\n           </a>\\n          </li>\\n          <li>\\n           <a href=\"catalogue/category/books/science-fiction_16/index.html\">\\n            Science Fiction\\n           </a>\\n          </li>\\n          <li>\\n           <a href=\"catalogue/category/books/sports-and-games_17/index.html\">\\n            Sports and Games\\n           </a>\\n          </li>\\n          <li>\\n           <a href=\"catalogue/category/books/add-a-comment_18/index.html\">\\n            Add a comment\\n           </a>\\n          </li>\\n          <li>\\n           <a href=\"catalogue/category/books/fantasy_19/index.html\">\\n            Fantasy\\n           </a>\\n          </li>\\n          <li>\\n           <a href=\"catalogue/category/books/new-adult_20/index.html\">\\n            New Adult\\n           </a>\\n          </li>\\n          <li>\\n           <a href=\"catalogue/category/books/young-adult_21/index.html\">\\n            Young Adult\\n           </a>\\n          </li>\\n          <li>\\n           <a href=\"catalogue/category/books/science_22/index.html\">\\n            Science\\n           </a>\\n          </li>\\n          <li>\\n           <a href=\"catalogue/category/books/poetry_23/index.html\">\\n            Poetry\\n           </a>\\n          </li>\\n          <li>\\n           <a href=\"catalogue/category/books/paranormal_24/index.html\">\\n            Paranormal\\n           </a>\\n          </li>\\n          <li>\\n           <a href=\"catalogue/category/books/art_25/index.html\">\\n            Art\\n           </a>\\n          </li>\\n          <li>\\n           <a href=\"catalogue/category/books/psychology_26/index.html\">\\n            Psychology\\n           </a>\\n          </li>\\n          <li>\\n           <a href=\"catalogue/category/books/autobiography_27/index.html\">\\n            Autobiography\\n           </a>\\n          </li>\\n          <li>\\n           <a href=\"catalogue/category/books/parenting_28/index.html\">\\n            Parenting\\n           </a>\\n          </li>\\n          <li>\\n           <a href=\"catalogue/category/books/adult-fiction_29/index.html\">\\n            Adult Fiction\\n           </a>\\n          </li>\\n          <li>\\n           <a href=\"catalogue/category/books/humor_30/index.html\">\\n            Humor\\n           </a>\\n          </li>\\n          <li>\\n           <a href=\"catalogue/category/books/horror_31/index.html\">\\n            Horror\\n           </a>\\n          </li>\\n          <li>\\n           <a href=\"catalogue/category/books/history_32/index.html\">\\n            History\\n           </a>\\n          </li>\\n          <li>\\n           <a href=\"catalogue/category/books/food-and-drink_33/index.html\">\\n            Food and Drink\\n           </a>\\n          </li>\\n          <li>\\n           <a href=\"catalogue/category/books/christian-fiction_34/index.html\">\\n            Christian Fiction\\n           </a>\\n          </li>\\n          <li>\\n           <a href=\"catalogue/category/books/business_35/index.html\">\\n            Business\\n           </a>\\n          </li>\\n          <li>\\n           <a href=\"catalogue/category/books/biography_36/index.html\">\\n            Biography\\n           </a>\\n          </li>\\n          <li>\\n           <a href=\"catalogue/category/books/thriller_37/index.html\">\\n            Thriller\\n           </a>\\n          </li>\\n          <li>\\n           <a href=\"catalogue/category/books/contemporary_38/index.html\">\\n            Contemporary\\n           </a>\\n          </li>\\n          <li>\\n           <a href=\"catalogue/category/books/spirituality_39/index.html\">\\n            Spirituality\\n           </a>\\n          </li>\\n          <li>\\n           <a href=\"catalogue/category/books/academic_40/index.html\">\\n            Academic\\n           </a>\\n          </li>\\n          <li>\\n           <a href=\"catalogue/category/books/self-help_41/index.html\">\\n            Self Help\\n           </a>\\n          </li>\\n          <li>\\n           <a href=\"catalogue/category/books/historical_42/index.html\">\\n            Historical\\n           </a>\\n          </li>\\n          <li>\\n           <a href=\"catalogue/category/books/christian_43/index.html\">\\n            Christian\\n           </a>\\n          </li>\\n          <li>\\n           <a href=\"catalogue/category/books/suspense_44/index.html\">\\n            Suspense\\n           </a>\\n          </li>\\n          <li>\\n           <a href=\"catalogue/category/books/short-stories_45/index.html\">\\n            Short Stories\\n           </a>\\n          </li>\\n          <li>\\n           <a href=\"catalogue/category/books/novels_46/index.html\">\\n            Novels\\n           </a>\\n          </li>\\n          <li>\\n           <a href=\"catalogue/category/books/health_47/index.html\">\\n            Health\\n           </a>\\n          </li>\\n          <li>\\n           <a href=\"catalogue/category/books/politics_48/index.html\">\\n            Politics\\n           </a>\\n          </li>\\n          <li>\\n           <a href=\"catalogue/category/books/cultural_49/index.html\">\\n            Cultural\\n           </a>\\n          </li>\\n          <li>\\n           <a href=\"catalogue/category/books/erotica_50/index.html\">\\n            Erotica\\n           </a>\\n          </li>\\n          <li>\\n           <a href=\"catalogue/category/books/crime_51/index.html\">\\n            Crime\\n           </a>\\n          </li>\\n         </ul>\\n        </li>\\n       </ul>\\n      </div>\\n     </aside>\\n     <div class=\"col-sm-8 col-md-9\">\\n      <div class=\"page-header action\">\\n       <h1>\\n        All products\\n       </h1>\\n      </div>\\n      <div id=\"messages\">\\n      </div>\\n      <div id=\"promotions\">\\n      </div>\\n      <form class=\"form-horizontal\" method=\"get\">\\n       <div style=\"display:none\">\\n       </div>\\n       <strong>\\n        1000\\n       </strong>\\n       results - showing\\n       <strong>\\n        1\\n       </strong>\\n       to\\n       <strong>\\n        20\\n       </strong>\\n       .\\n      </form>\\n      <section>\\n       <div class=\"alert alert-warning\" role=\"alert\">\\n        <strong>\\n         Warning!\\n        </strong>\\n        This is a demo website for web scraping purposes. Prices and ratings here were randomly assigned and have no real meaning.\\n       </div>\\n       <div>\\n        <ol class=\"row\">\\n         <li class=\"col-xs-6 col-sm-4 col-md-3 col-lg-3\">\\n          <article class=\"product_pod\">\\n           <div class=\"image_container\">\\n            <a href=\"catalogue/a-light-in-the-attic_1000/index.html\">\\n             <img alt=\"A Light in the Attic\" class=\"thumbnail\" src=\"media/cache/2c/da/2cdad67c44b002e7ead0cc35693c0e8b.jpg\"/>\\n            </a>\\n           </div>\\n           <p class=\"star-rating Three\">\\n            <i class=\"icon-star\">\\n            </i>\\n            <i class=\"icon-star\">\\n            </i>\\n            <i class=\"icon-star\">\\n            </i>\\n            <i class=\"icon-star\">\\n            </i>\\n            <i class=\"icon-star\">\\n            </i>\\n           </p>\\n           <h3>\\n            <a href=\"catalogue/a-light-in-the-attic_1000/index.html\" title=\"A Light in the Attic\">\\n             A Light in the ...\\n            </a>\\n           </h3>\\n           <div class=\"product_price\">\\n            <p class=\"price_color\">\\n             Â£51.77\\n            </p>\\n            <p class=\"instock availability\">\\n             <i class=\"icon-ok\">\\n             </i>\\n             In stock\\n            </p>\\n            <form>\\n             <button class=\"btn btn-primary btn-block\" data-loading-text=\"Adding...\" type=\"submit\">\\n              Add to basket\\n             </button>\\n            </form>\\n           </div>\\n          </article>\\n         </li>\\n         <li class=\"col-xs-6 col-sm-4 col-md-3 col-lg-3\">\\n          <article class=\"product_pod\">\\n           <div class=\"image_container\">\\n            <a href=\"catalogue/tipping-the-velvet_999/index.html\">\\n             <img alt=\"Tipping the Velvet\" class=\"thumbnail\" src=\"media/cache/26/0c/260c6ae16bce31c8f8c95daddd9f4a1c.jpg\"/>\\n            </a>\\n           </div>\\n           <p class=\"star-rating One\">\\n            <i class=\"icon-star\">\\n            </i>\\n            <i class=\"icon-star\">\\n            </i>\\n            <i class=\"icon-star\">\\n            </i>\\n            <i class=\"icon-star\">\\n            </i>\\n            <i class=\"icon-star\">\\n            </i>\\n           </p>\\n           <h3>\\n            <a href=\"catalogue/tipping-the-velvet_999/index.html\" title=\"Tipping the Velvet\">\\n             Tipping the Velvet\\n            </a>\\n           </h3>\\n           <div class=\"product_price\">\\n            <p class=\"price_color\">\\n             Â£53.74\\n            </p>\\n            <p class=\"instock availability\">\\n             <i class=\"icon-ok\">\\n             </i>\\n             In stock\\n            </p>\\n            <form>\\n             <button class=\"btn btn-primary btn-block\" data-loading-text=\"Adding...\" type=\"submit\">\\n              Add to basket\\n             </button>\\n            </form>\\n           </div>\\n          </article>\\n         </li>\\n         <li class=\"col-xs-6 col-sm-4 col-md-3 col-lg-3\">\\n          <article class=\"product_pod\">\\n           <div class=\"image_container\">\\n            <a href=\"catalogue/soumission_998/index.html\">\\n             <img alt=\"Soumission\" class=\"thumbnail\" src=\"media/cache/3e/ef/3eef99c9d9adef34639f510662022830.jpg\"/>\\n            </a>\\n           </div>\\n           <p class=\"star-rating One\">\\n            <i class=\"icon-star\">\\n            </i>\\n            <i class=\"icon-star\">\\n            </i>\\n            <i class=\"icon-star\">\\n            </i>\\n            <i class=\"icon-star\">\\n            </i>\\n            <i class=\"icon-star\">\\n            </i>\\n           </p>\\n           <h3>\\n            <a href=\"catalogue/soumission_998/index.html\" title=\"Soumission\">\\n             Soumission\\n            </a>\\n           </h3>\\n           <div class=\"product_price\">\\n            <p class=\"price_color\">\\n             Â£50.10\\n            </p>\\n            <p class=\"instock availability\">\\n             <i class=\"icon-ok\">\\n             </i>\\n             In stock\\n            </p>\\n            <form>\\n             <button class=\"btn btn-primary btn-block\" data-loading-text=\"Adding...\" type=\"submit\">\\n              Add to basket\\n             </button>\\n            </form>\\n           </div>\\n          </article>\\n         </li>\\n         <li class=\"col-xs-6 col-sm-4 col-md-3 col-lg-3\">\\n          <article class=\"product_pod\">\\n           <div class=\"image_container\">\\n            <a href=\"catalogue/sharp-objects_997/index.html\">\\n             <img alt=\"Sharp Objects\" class=\"thumbnail\" src=\"media/cache/32/51/3251cf3a3412f53f339e42cac2134093.jpg\"/>\\n            </a>\\n           </div>\\n           <p class=\"star-rating Four\">\\n            <i class=\"icon-star\">\\n            </i>\\n            <i class=\"icon-star\">\\n            </i>\\n            <i class=\"icon-star\">\\n            </i>\\n            <i class=\"icon-star\">\\n            </i>\\n            <i class=\"icon-star\">\\n            </i>\\n           </p>\\n           <h3>\\n            <a href=\"catalogue/sharp-objects_997/index.html\" title=\"Sharp Objects\">\\n             Sharp Objects\\n            </a>\\n           </h3>\\n           <div class=\"product_price\">\\n            <p class=\"price_color\">\\n             Â£47.82\\n            </p>\\n            <p class=\"instock availability\">\\n             <i class=\"icon-ok\">\\n             </i>\\n             In stock\\n            </p>\\n            <form>\\n             <button class=\"btn btn-primary btn-block\" data-loading-text=\"Adding...\" type=\"submit\">\\n              Add to basket\\n             </button>\\n            </form>\\n           </div>\\n          </article>\\n         </li>\\n         <li class=\"col-xs-6 col-sm-4 col-md-3 col-lg-3\">\\n          <article class=\"product_pod\">\\n           <div class=\"image_container\">\\n            <a href=\"catalogue/sapiens-a-brief-history-of-humankind_996/index.html\">\\n             <img alt=\"Sapiens: A Brief History of Humankind\" class=\"thumbnail\" src=\"media/cache/be/a5/bea5697f2534a2f86a3ef27b5a8c12a6.jpg\"/>\\n            </a>\\n           </div>\\n           <p class=\"star-rating Five\">\\n            <i class=\"icon-star\">\\n            </i>\\n            <i class=\"icon-star\">\\n            </i>\\n            <i class=\"icon-star\">\\n            </i>\\n            <i class=\"icon-star\">\\n            </i>\\n            <i class=\"icon-star\">\\n            </i>\\n           </p>\\n           <h3>\\n            <a href=\"catalogue/sapiens-a-brief-history-of-humankind_996/index.html\" title=\"Sapiens: A Brief History of Humankind\">\\n             Sapiens: A Brief History ...\\n            </a>\\n           </h3>\\n           <div class=\"product_price\">\\n            <p class=\"price_color\">\\n             Â£54.23\\n            </p>\\n            <p class=\"instock availability\">\\n             <i class=\"icon-ok\">\\n             </i>\\n             In stock\\n            </p>\\n            <form>\\n             <button class=\"btn btn-primary btn-block\" data-loading-text=\"Adding...\" type=\"submit\">\\n              Add to basket\\n             </button>\\n            </form>\\n           </div>\\n          </article>\\n         </li>\\n         <li class=\"col-xs-6 col-sm-4 col-md-3 col-lg-3\">\\n          <article class=\"product_pod\">\\n           <div class=\"image_container\">\\n            <a href=\"catalogue/the-requiem-red_995/index.html\">\\n             <img alt=\"The Requiem Red\" class=\"thumbnail\" src=\"media/cache/68/33/68339b4c9bc034267e1da611ab3b34f8.jpg\"/>\\n            </a>\\n           </div>\\n           <p class=\"star-rating One\">\\n            <i class=\"icon-star\">\\n            </i>\\n            <i class=\"icon-star\">\\n            </i>\\n            <i class=\"icon-star\">\\n            </i>\\n            <i class=\"icon-star\">\\n            </i>\\n            <i class=\"icon-star\">\\n            </i>\\n           </p>\\n           <h3>\\n            <a href=\"catalogue/the-requiem-red_995/index.html\" title=\"The Requiem Red\">\\n             The Requiem Red\\n            </a>\\n           </h3>\\n           <div class=\"product_price\">\\n            <p class=\"price_color\">\\n             Â£22.65\\n            </p>\\n            <p class=\"instock availability\">\\n             <i class=\"icon-ok\">\\n             </i>\\n             In stock\\n            </p>\\n            <form>\\n             <button class=\"btn btn-primary btn-block\" data-loading-text=\"Adding...\" type=\"submit\">\\n              Add to basket\\n             </button>\\n            </form>\\n           </div>\\n          </article>\\n         </li>\\n         <li class=\"col-xs-6 col-sm-4 col-md-3 col-lg-3\">\\n          <article class=\"product_pod\">\\n           <div class=\"image_container\">\\n            <a href=\"catalogue/the-dirty-little-secrets-of-getting-your-dream-job_994/index.html\">\\n             <img alt=\"The Dirty Little Secrets of Getting Your Dream Job\" class=\"thumbnail\" src=\"media/cache/92/27/92274a95b7c251fea59a2b8a78275ab4.jpg\"/>\\n            </a>\\n           </div>\\n           <p class=\"star-rating Four\">\\n            <i class=\"icon-star\">\\n            </i>\\n            <i class=\"icon-star\">\\n            </i>\\n            <i class=\"icon-star\">\\n            </i>\\n            <i class=\"icon-star\">\\n            </i>\\n            <i class=\"icon-star\">\\n            </i>\\n           </p>\\n           <h3>\\n            <a href=\"catalogue/the-dirty-little-secrets-of-getting-your-dream-job_994/index.html\" title=\"The Dirty Little Secrets of Getting Your Dream Job\">\\n             The Dirty Little Secrets ...\\n            </a>\\n           </h3>\\n           <div class=\"product_price\">\\n            <p class=\"price_color\">\\n             Â£33.34\\n            </p>\\n            <p class=\"instock availability\">\\n             <i class=\"icon-ok\">\\n             </i>\\n             In stock\\n            </p>\\n            <form>\\n             <button class=\"btn btn-primary btn-block\" data-loading-text=\"Adding...\" type=\"submit\">\\n              Add to basket\\n             </button>\\n            </form>\\n           </div>\\n          </article>\\n         </li>\\n         <li class=\"col-xs-6 col-sm-4 col-md-3 col-lg-3\">\\n          <article class=\"product_pod\">\\n           <div class=\"image_container\">\\n            <a href=\"catalogue/the-coming-woman-a-novel-based-on-the-life-of-the-infamous-feminist-victoria-woodhull_993/index.html\">\\n             <img alt=\"The Coming Woman: A Novel Based on the Life of the Infamous Feminist, Victoria Woodhull\" class=\"thumbnail\" src=\"media/cache/3d/54/3d54940e57e662c4dd1f3ff00c78cc64.jpg\"/>\\n            </a>\\n           </div>\\n           <p class=\"star-rating Three\">\\n            <i class=\"icon-star\">\\n            </i>\\n            <i class=\"icon-star\">\\n            </i>\\n            <i class=\"icon-star\">\\n            </i>\\n            <i class=\"icon-star\">\\n            </i>\\n            <i class=\"icon-star\">\\n            </i>\\n           </p>\\n           <h3>\\n            <a href=\"catalogue/the-coming-woman-a-novel-based-on-the-life-of-the-infamous-feminist-victoria-woodhull_993/index.html\" title=\"The Coming Woman: A Novel Based on the Life of the Infamous Feminist, Victoria Woodhull\">\\n             The Coming Woman: A ...\\n            </a>\\n           </h3>\\n           <div class=\"product_price\">\\n            <p class=\"price_color\">\\n             Â£17.93\\n            </p>\\n            <p class=\"instock availability\">\\n             <i class=\"icon-ok\">\\n             </i>\\n             In stock\\n            </p>\\n            <form>\\n             <button class=\"btn btn-primary btn-block\" data-loading-text=\"Adding...\" type=\"submit\">\\n              Add to basket\\n             </button>\\n            </form>\\n           </div>\\n          </article>\\n         </li>\\n         <li class=\"col-xs-6 col-sm-4 col-md-3 col-lg-3\">\\n          <article class=\"product_pod\">\\n           <div class=\"image_container\">\\n            <a href=\"catalogue/the-boys-in-the-boat-nine-americans-and-their-epic-quest-for-gold-at-the-1936-berlin-olympics_992/index.html\">\\n             <img alt=\"The Boys in the Boat: Nine Americans and Their Epic Quest for Gold at the 1936 Berlin Olympics\" class=\"thumbnail\" src=\"media/cache/66/88/66883b91f6804b2323c8369331cb7dd1.jpg\"/>\\n            </a>\\n           </div>\\n           <p class=\"star-rating Four\">\\n            <i class=\"icon-star\">\\n            </i>\\n            <i class=\"icon-star\">\\n            </i>\\n            <i class=\"icon-star\">\\n            </i>\\n            <i class=\"icon-star\">\\n            </i>\\n            <i class=\"icon-star\">\\n            </i>\\n           </p>\\n           <h3>\\n            <a href=\"catalogue/the-boys-in-the-boat-nine-americans-and-their-epic-quest-for-gold-at-the-1936-berlin-olympics_992/index.html\" title=\"The Boys in the Boat: Nine Americans and Their Epic Quest for Gold at the 1936 Berlin Olympics\">\\n             The Boys in the ...\\n            </a>\\n           </h3>\\n           <div class=\"product_price\">\\n            <p class=\"price_color\">\\n             Â£22.60\\n            </p>\\n            <p class=\"instock availability\">\\n             <i class=\"icon-ok\">\\n             </i>\\n             In stock\\n            </p>\\n            <form>\\n             <button class=\"btn btn-primary btn-block\" data-loading-text=\"Adding...\" type=\"submit\">\\n              Add to basket\\n             </button>\\n            </form>\\n           </div>\\n          </article>\\n         </li>\\n         <li class=\"col-xs-6 col-sm-4 col-md-3 col-lg-3\">\\n          <article class=\"product_pod\">\\n           <div class=\"image_container\">\\n            <a href=\"catalogue/the-black-maria_991/index.html\">\\n             <img alt=\"The Black Maria\" class=\"thumbnail\" src=\"media/cache/58/46/5846057e28022268153beff6d352b06c.jpg\"/>\\n            </a>\\n           </div>\\n           <p class=\"star-rating One\">\\n            <i class=\"icon-star\">\\n            </i>\\n            <i class=\"icon-star\">\\n            </i>\\n            <i class=\"icon-star\">\\n            </i>\\n            <i class=\"icon-star\">\\n            </i>\\n            <i class=\"icon-star\">\\n            </i>\\n           </p>\\n           <h3>\\n            <a href=\"catalogue/the-black-maria_991/index.html\" title=\"The Black Maria\">\\n             The Black Maria\\n            </a>\\n           </h3>\\n           <div class=\"product_price\">\\n            <p class=\"price_color\">\\n             Â£52.15\\n            </p>\\n            <p class=\"instock availability\">\\n             <i class=\"icon-ok\">\\n             </i>\\n             In stock\\n            </p>\\n            <form>\\n             <button class=\"btn btn-primary btn-block\" data-loading-text=\"Adding...\" type=\"submit\">\\n              Add to basket\\n             </button>\\n            </form>\\n           </div>\\n          </article>\\n         </li>\\n         <li class=\"col-xs-6 col-sm-4 col-md-3 col-lg-3\">\\n          <article class=\"product_pod\">\\n           <div class=\"image_container\">\\n            <a href=\"catalogue/starving-hearts-triangular-trade-trilogy-1_990/index.html\">\\n             <img alt=\"Starving Hearts (Triangular Trade Trilogy, #1)\" class=\"thumbnail\" src=\"media/cache/be/f4/bef44da28c98f905a3ebec0b87be8530.jpg\"/>\\n            </a>\\n           </div>\\n           <p class=\"star-rating Two\">\\n            <i class=\"icon-star\">\\n            </i>\\n            <i class=\"icon-star\">\\n            </i>\\n            <i class=\"icon-star\">\\n            </i>\\n            <i class=\"icon-star\">\\n            </i>\\n            <i class=\"icon-star\">\\n            </i>\\n           </p>\\n           <h3>\\n            <a href=\"catalogue/starving-hearts-triangular-trade-trilogy-1_990/index.html\" title=\"Starving Hearts (Triangular Trade Trilogy, #1)\">\\n             Starving Hearts (Triangular Trade ...\\n            </a>\\n           </h3>\\n           <div class=\"product_price\">\\n            <p class=\"price_color\">\\n             Â£13.99\\n            </p>\\n            <p class=\"instock availability\">\\n             <i class=\"icon-ok\">\\n             </i>\\n             In stock\\n            </p>\\n            <form>\\n             <button class=\"btn btn-primary btn-block\" data-loading-text=\"Adding...\" type=\"submit\">\\n              Add to basket\\n             </button>\\n            </form>\\n           </div>\\n          </article>\\n         </li>\\n         <li class=\"col-xs-6 col-sm-4 col-md-3 col-lg-3\">\\n          <article class=\"product_pod\">\\n           <div class=\"image_container\">\\n            <a href=\"catalogue/shakespeares-sonnets_989/index.html\">\\n             <img alt=\"Shakespeare\\'s Sonnets\" class=\"thumbnail\" src=\"media/cache/10/48/1048f63d3b5061cd2f424d20b3f9b666.jpg\"/>\\n            </a>\\n           </div>\\n           <p class=\"star-rating Four\">\\n            <i class=\"icon-star\">\\n            </i>\\n            <i class=\"icon-star\">\\n            </i>\\n            <i class=\"icon-star\">\\n            </i>\\n            <i class=\"icon-star\">\\n            </i>\\n            <i class=\"icon-star\">\\n            </i>\\n           </p>\\n           <h3>\\n            <a href=\"catalogue/shakespeares-sonnets_989/index.html\" title=\"Shakespeare\\'s Sonnets\">\\n             Shakespeare\\'s Sonnets\\n            </a>\\n           </h3>\\n           <div class=\"product_price\">\\n            <p class=\"price_color\">\\n             Â£20.66\\n            </p>\\n            <p class=\"instock availability\">\\n             <i class=\"icon-ok\">\\n             </i>\\n             In stock\\n            </p>\\n            <form>\\n             <button class=\"btn btn-primary btn-block\" data-loading-text=\"Adding...\" type=\"submit\">\\n              Add to basket\\n             </button>\\n            </form>\\n           </div>\\n          </article>\\n         </li>\\n         <li class=\"col-xs-6 col-sm-4 col-md-3 col-lg-3\">\\n          <article class=\"product_pod\">\\n           <div class=\"image_container\">\\n            <a href=\"catalogue/set-me-free_988/index.html\">\\n             <img alt=\"Set Me Free\" class=\"thumbnail\" src=\"media/cache/5b/88/5b88c52633f53cacf162c15f4f823153.jpg\"/>\\n            </a>\\n           </div>\\n           <p class=\"star-rating Five\">\\n            <i class=\"icon-star\">\\n            </i>\\n            <i class=\"icon-star\">\\n            </i>\\n            <i class=\"icon-star\">\\n            </i>\\n            <i class=\"icon-star\">\\n            </i>\\n            <i class=\"icon-star\">\\n            </i>\\n           </p>\\n           <h3>\\n            <a href=\"catalogue/set-me-free_988/index.html\" title=\"Set Me Free\">\\n             Set Me Free\\n            </a>\\n           </h3>\\n           <div class=\"product_price\">\\n            <p class=\"price_color\">\\n             Â£17.46\\n            </p>\\n            <p class=\"instock availability\">\\n             <i class=\"icon-ok\">\\n             </i>\\n             In stock\\n            </p>\\n            <form>\\n             <button class=\"btn btn-primary btn-block\" data-loading-text=\"Adding...\" type=\"submit\">\\n              Add to basket\\n             </button>\\n            </form>\\n           </div>\\n          </article>\\n         </li>\\n         <li class=\"col-xs-6 col-sm-4 col-md-3 col-lg-3\">\\n          <article class=\"product_pod\">\\n           <div class=\"image_container\">\\n            <a href=\"catalogue/scott-pilgrims-precious-little-life-scott-pilgrim-1_987/index.html\">\\n             <img alt=\"Scott Pilgrim\\'s Precious Little Life (Scott Pilgrim #1)\" class=\"thumbnail\" src=\"media/cache/94/b1/94b1b8b244bce9677c2f29ccc890d4d2.jpg\"/>\\n            </a>\\n           </div>\\n           <p class=\"star-rating Five\">\\n            <i class=\"icon-star\">\\n            </i>\\n            <i class=\"icon-star\">\\n            </i>\\n            <i class=\"icon-star\">\\n            </i>\\n            <i class=\"icon-star\">\\n            </i>\\n            <i class=\"icon-star\">\\n            </i>\\n           </p>\\n           <h3>\\n            <a href=\"catalogue/scott-pilgrims-precious-little-life-scott-pilgrim-1_987/index.html\" title=\"Scott Pilgrim\\'s Precious Little Life (Scott Pilgrim #1)\">\\n             Scott Pilgrim\\'s Precious Little ...\\n            </a>\\n           </h3>\\n           <div class=\"product_price\">\\n            <p class=\"price_color\">\\n             Â£52.29\\n            </p>\\n            <p class=\"instock availability\">\\n             <i class=\"icon-ok\">\\n             </i>\\n             In stock\\n            </p>\\n            <form>\\n             <button class=\"btn btn-primary btn-block\" data-loading-text=\"Adding...\" type=\"submit\">\\n              Add to basket\\n             </button>\\n            </form>\\n           </div>\\n          </article>\\n         </li>\\n         <li class=\"col-xs-6 col-sm-4 col-md-3 col-lg-3\">\\n          <article class=\"product_pod\">\\n           <div class=\"image_container\">\\n            <a href=\"catalogue/rip-it-up-and-start-again_986/index.html\">\\n             <img alt=\"Rip it Up and Start Again\" class=\"thumbnail\" src=\"media/cache/81/c4/81c4a973364e17d01f217e1188253d5e.jpg\"/>\\n            </a>\\n           </div>\\n           <p class=\"star-rating Five\">\\n            <i class=\"icon-star\">\\n            </i>\\n            <i class=\"icon-star\">\\n            </i>\\n            <i class=\"icon-star\">\\n            </i>\\n            <i class=\"icon-star\">\\n            </i>\\n            <i class=\"icon-star\">\\n            </i>\\n           </p>\\n           <h3>\\n            <a href=\"catalogue/rip-it-up-and-start-again_986/index.html\" title=\"Rip it Up and Start Again\">\\n             Rip it Up and ...\\n            </a>\\n           </h3>\\n           <div class=\"product_price\">\\n            <p class=\"price_color\">\\n             Â£35.02\\n            </p>\\n            <p class=\"instock availability\">\\n             <i class=\"icon-ok\">\\n             </i>\\n             In stock\\n            </p>\\n            <form>\\n             <button class=\"btn btn-primary btn-block\" data-loading-text=\"Adding...\" type=\"submit\">\\n              Add to basket\\n             </button>\\n            </form>\\n           </div>\\n          </article>\\n         </li>\\n         <li class=\"col-xs-6 col-sm-4 col-md-3 col-lg-3\">\\n          <article class=\"product_pod\">\\n           <div class=\"image_container\">\\n            <a href=\"catalogue/our-band-could-be-your-life-scenes-from-the-american-indie-underground-1981-1991_985/index.html\">\\n             <img alt=\"Our Band Could Be Your Life: Scenes from the American Indie Underground, 1981-1991\" class=\"thumbnail\" src=\"media/cache/54/60/54607fe8945897cdcced0044103b10b6.jpg\"/>\\n            </a>\\n           </div>\\n           <p class=\"star-rating Three\">\\n            <i class=\"icon-star\">\\n            </i>\\n            <i class=\"icon-star\">\\n            </i>\\n            <i class=\"icon-star\">\\n            </i>\\n            <i class=\"icon-star\">\\n            </i>\\n            <i class=\"icon-star\">\\n            </i>\\n           </p>\\n           <h3>\\n            <a href=\"catalogue/our-band-could-be-your-life-scenes-from-the-american-indie-underground-1981-1991_985/index.html\" title=\"Our Band Could Be Your Life: Scenes from the American Indie Underground, 1981-1991\">\\n             Our Band Could Be ...\\n            </a>\\n           </h3>\\n           <div class=\"product_price\">\\n            <p class=\"price_color\">\\n             Â£57.25\\n            </p>\\n            <p class=\"instock availability\">\\n             <i class=\"icon-ok\">\\n             </i>\\n             In stock\\n            </p>\\n            <form>\\n             <button class=\"btn btn-primary btn-block\" data-loading-text=\"Adding...\" type=\"submit\">\\n              Add to basket\\n             </button>\\n            </form>\\n           </div>\\n          </article>\\n         </li>\\n         <li class=\"col-xs-6 col-sm-4 col-md-3 col-lg-3\">\\n          <article class=\"product_pod\">\\n           <div class=\"image_container\">\\n            <a href=\"catalogue/olio_984/index.html\">\\n             <img alt=\"Olio\" class=\"thumbnail\" src=\"media/cache/55/33/553310a7162dfbc2c6d19a84da0df9e1.jpg\"/>\\n            </a>\\n           </div>\\n           <p class=\"star-rating One\">\\n            <i class=\"icon-star\">\\n            </i>\\n            <i class=\"icon-star\">\\n            </i>\\n            <i class=\"icon-star\">\\n            </i>\\n            <i class=\"icon-star\">\\n            </i>\\n            <i class=\"icon-star\">\\n            </i>\\n           </p>\\n           <h3>\\n            <a href=\"catalogue/olio_984/index.html\" title=\"Olio\">\\n             Olio\\n            </a>\\n           </h3>\\n           <div class=\"product_price\">\\n            <p class=\"price_color\">\\n             Â£23.88\\n            </p>\\n            <p class=\"instock availability\">\\n             <i class=\"icon-ok\">\\n             </i>\\n             In stock\\n            </p>\\n            <form>\\n             <button class=\"btn btn-primary btn-block\" data-loading-text=\"Adding...\" type=\"submit\">\\n              Add to basket\\n             </button>\\n            </form>\\n           </div>\\n          </article>\\n         </li>\\n         <li class=\"col-xs-6 col-sm-4 col-md-3 col-lg-3\">\\n          <article class=\"product_pod\">\\n           <div class=\"image_container\">\\n            <a href=\"catalogue/mesaerion-the-best-science-fiction-stories-1800-1849_983/index.html\">\\n             <img alt=\"Mesaerion: The Best Science Fiction Stories 1800-1849\" class=\"thumbnail\" src=\"media/cache/09/a3/09a3aef48557576e1a85ba7efea8ecb7.jpg\"/>\\n            </a>\\n           </div>\\n           <p class=\"star-rating One\">\\n            <i class=\"icon-star\">\\n            </i>\\n            <i class=\"icon-star\">\\n            </i>\\n            <i class=\"icon-star\">\\n            </i>\\n            <i class=\"icon-star\">\\n            </i>\\n            <i class=\"icon-star\">\\n            </i>\\n           </p>\\n           <h3>\\n            <a href=\"catalogue/mesaerion-the-best-science-fiction-stories-1800-1849_983/index.html\" title=\"Mesaerion: The Best Science Fiction Stories 1800-1849\">\\n             Mesaerion: The Best Science ...\\n            </a>\\n           </h3>\\n           <div class=\"product_price\">\\n            <p class=\"price_color\">\\n             Â£37.59\\n            </p>\\n            <p class=\"instock availability\">\\n             <i class=\"icon-ok\">\\n             </i>\\n             In stock\\n            </p>\\n            <form>\\n             <button class=\"btn btn-primary btn-block\" data-loading-text=\"Adding...\" type=\"submit\">\\n              Add to basket\\n             </button>\\n            </form>\\n           </div>\\n          </article>\\n         </li>\\n         <li class=\"col-xs-6 col-sm-4 col-md-3 col-lg-3\">\\n          <article class=\"product_pod\">\\n           <div class=\"image_container\">\\n            <a href=\"catalogue/libertarianism-for-beginners_982/index.html\">\\n             <img alt=\"Libertarianism for Beginners\" class=\"thumbnail\" src=\"media/cache/0b/bc/0bbcd0a6f4bcd81ccb1049a52736406e.jpg\"/>\\n            </a>\\n           </div>\\n           <p class=\"star-rating Two\">\\n            <i class=\"icon-star\">\\n            </i>\\n            <i class=\"icon-star\">\\n            </i>\\n            <i class=\"icon-star\">\\n            </i>\\n            <i class=\"icon-star\">\\n            </i>\\n            <i class=\"icon-star\">\\n            </i>\\n           </p>\\n           <h3>\\n            <a href=\"catalogue/libertarianism-for-beginners_982/index.html\" title=\"Libertarianism for Beginners\">\\n             Libertarianism for Beginners\\n            </a>\\n           </h3>\\n           <div class=\"product_price\">\\n            <p class=\"price_color\">\\n             Â£51.33\\n            </p>\\n            <p class=\"instock availability\">\\n             <i class=\"icon-ok\">\\n             </i>\\n             In stock\\n            </p>\\n            <form>\\n             <button class=\"btn btn-primary btn-block\" data-loading-text=\"Adding...\" type=\"submit\">\\n              Add to basket\\n             </button>\\n            </form>\\n           </div>\\n          </article>\\n         </li>\\n         <li class=\"col-xs-6 col-sm-4 col-md-3 col-lg-3\">\\n          <article class=\"product_pod\">\\n           <div class=\"image_container\">\\n            <a href=\"catalogue/its-only-the-himalayas_981/index.html\">\\n             <img alt=\"It\\'s Only the Himalayas\" class=\"thumbnail\" src=\"media/cache/27/a5/27a53d0bb95bdd88288eaf66c9230d7e.jpg\"/>\\n            </a>\\n           </div>\\n           <p class=\"star-rating Two\">\\n            <i class=\"icon-star\">\\n            </i>\\n            <i class=\"icon-star\">\\n            </i>\\n            <i class=\"icon-star\">\\n            </i>\\n            <i class=\"icon-star\">\\n            </i>\\n            <i class=\"icon-star\">\\n            </i>\\n           </p>\\n           <h3>\\n            <a href=\"catalogue/its-only-the-himalayas_981/index.html\" title=\"It\\'s Only the Himalayas\">\\n             It\\'s Only the Himalayas\\n            </a>\\n           </h3>\\n           <div class=\"product_price\">\\n            <p class=\"price_color\">\\n             Â£45.17\\n            </p>\\n            <p class=\"instock availability\">\\n             <i class=\"icon-ok\">\\n             </i>\\n             In stock\\n            </p>\\n            <form>\\n             <button class=\"btn btn-primary btn-block\" data-loading-text=\"Adding...\" type=\"submit\">\\n              Add to basket\\n             </button>\\n            </form>\\n           </div>\\n          </article>\\n         </li>\\n        </ol>\\n        <div>\\n         <ul class=\"pager\">\\n          <li class=\"current\">\\n           Page 1 of 50\\n          </li>\\n          <li class=\"next\">\\n           <a href=\"catalogue/page-2.html\">\\n            next\\n           </a>\\n          </li>\\n         </ul>\\n        </div>\\n       </div>\\n      </section>\\n     </div>\\n    </div>\\n    <!-- /row -->\\n   </div>\\n   <!-- /page_inner -->\\n  </div>\\n  <!-- /container-fluid -->\\n  <footer class=\"footer container-fluid\">\\n  </footer>\\n  <!-- jQuery -->\\n  <script src=\"http://ajax.googleapis.com/ajax/libs/jquery/1.9.1/jquery.min.js\">\\n  </script>\\n  <script>\\n   window.jQuery || document.write(\\'<script src=\"static/oscar/js/jquery/jquery-1.9.1.min.js\"><\\\\/script>\\')\\n  </script>\\n  <!-- Twitter Bootstrap -->\\n  <script src=\"static/oscar/js/bootstrap3/bootstrap.min.js\" type=\"text/javascript\">\\n  </script>\\n  <!-- Oscar -->\\n  <script charset=\"utf-8\" src=\"static/oscar/js/oscar/ui.js\" type=\"text/javascript\">\\n  </script>\\n  <script charset=\"utf-8\" src=\"static/oscar/js/bootstrap-datetimepicker/bootstrap-datetimepicker.js\" type=\"text/javascript\">\\n  </script>\\n  <script charset=\"utf-8\" src=\"static/oscar/js/bootstrap-datetimepicker/locales/bootstrap-datetimepicker.all.js\" type=\"text/javascript\">\\n  </script>\\n  <script type=\"text/javascript\">\\n   $(function() {\\n                \\n    \\n    \\n    oscar.init();\\n\\n    oscar.search.init();\\n\\n            });\\n  </script>\\n  <!-- Version: N/A -->\\n </body>\\n</html>\\n'"
            ]
          },
          "metadata": {},
          "execution_count": 12
        }
      ]
    },
    {
      "cell_type": "code",
      "metadata": {
        "id": "QUGAkhnb9yJ8"
      },
      "source": [
        "topic_tags=doc.find_all('a',href=re.compile(\"books\"))\n",
        "#print(topic_tags[:5])\n"
      ],
      "execution_count": null,
      "outputs": []
    },
    {
      "cell_type": "code",
      "metadata": {
        "colab": {
          "base_uri": "https://localhost:8080/"
        },
        "id": "sYlVy9GD9yM4",
        "outputId": "aa158a6a-56b2-4dfd-9a72-eae9d9f9a1e4"
      },
      "source": [
        "topic_urls=[]\n",
        "base_urls='http://books.toscrape.com/'\n",
        "for i ,tags in enumerate (topic_tags):\n",
        "  if i==0:\n",
        "    continue\n",
        "  else:\n",
        "      topic_urls.append(base_urls+tags['href'])\n",
        "topic_urls"
      ],
      "execution_count": null,
      "outputs": [
        {
          "output_type": "execute_result",
          "data": {
            "text/plain": [
              "['http://books.toscrape.com/catalogue/category/books/travel_2/index.html',\n",
              " 'http://books.toscrape.com/catalogue/category/books/mystery_3/index.html',\n",
              " 'http://books.toscrape.com/catalogue/category/books/historical-fiction_4/index.html',\n",
              " 'http://books.toscrape.com/catalogue/category/books/sequential-art_5/index.html',\n",
              " 'http://books.toscrape.com/catalogue/category/books/classics_6/index.html',\n",
              " 'http://books.toscrape.com/catalogue/category/books/philosophy_7/index.html',\n",
              " 'http://books.toscrape.com/catalogue/category/books/romance_8/index.html',\n",
              " 'http://books.toscrape.com/catalogue/category/books/womens-fiction_9/index.html',\n",
              " 'http://books.toscrape.com/catalogue/category/books/fiction_10/index.html',\n",
              " 'http://books.toscrape.com/catalogue/category/books/childrens_11/index.html',\n",
              " 'http://books.toscrape.com/catalogue/category/books/religion_12/index.html',\n",
              " 'http://books.toscrape.com/catalogue/category/books/nonfiction_13/index.html',\n",
              " 'http://books.toscrape.com/catalogue/category/books/music_14/index.html',\n",
              " 'http://books.toscrape.com/catalogue/category/books/default_15/index.html',\n",
              " 'http://books.toscrape.com/catalogue/category/books/science-fiction_16/index.html',\n",
              " 'http://books.toscrape.com/catalogue/category/books/sports-and-games_17/index.html',\n",
              " 'http://books.toscrape.com/catalogue/category/books/add-a-comment_18/index.html',\n",
              " 'http://books.toscrape.com/catalogue/category/books/fantasy_19/index.html',\n",
              " 'http://books.toscrape.com/catalogue/category/books/new-adult_20/index.html',\n",
              " 'http://books.toscrape.com/catalogue/category/books/young-adult_21/index.html',\n",
              " 'http://books.toscrape.com/catalogue/category/books/science_22/index.html',\n",
              " 'http://books.toscrape.com/catalogue/category/books/poetry_23/index.html',\n",
              " 'http://books.toscrape.com/catalogue/category/books/paranormal_24/index.html',\n",
              " 'http://books.toscrape.com/catalogue/category/books/art_25/index.html',\n",
              " 'http://books.toscrape.com/catalogue/category/books/psychology_26/index.html',\n",
              " 'http://books.toscrape.com/catalogue/category/books/autobiography_27/index.html',\n",
              " 'http://books.toscrape.com/catalogue/category/books/parenting_28/index.html',\n",
              " 'http://books.toscrape.com/catalogue/category/books/adult-fiction_29/index.html',\n",
              " 'http://books.toscrape.com/catalogue/category/books/humor_30/index.html',\n",
              " 'http://books.toscrape.com/catalogue/category/books/horror_31/index.html',\n",
              " 'http://books.toscrape.com/catalogue/category/books/history_32/index.html',\n",
              " 'http://books.toscrape.com/catalogue/category/books/food-and-drink_33/index.html',\n",
              " 'http://books.toscrape.com/catalogue/category/books/christian-fiction_34/index.html',\n",
              " 'http://books.toscrape.com/catalogue/category/books/business_35/index.html',\n",
              " 'http://books.toscrape.com/catalogue/category/books/biography_36/index.html',\n",
              " 'http://books.toscrape.com/catalogue/category/books/thriller_37/index.html',\n",
              " 'http://books.toscrape.com/catalogue/category/books/contemporary_38/index.html',\n",
              " 'http://books.toscrape.com/catalogue/category/books/spirituality_39/index.html',\n",
              " 'http://books.toscrape.com/catalogue/category/books/academic_40/index.html',\n",
              " 'http://books.toscrape.com/catalogue/category/books/self-help_41/index.html',\n",
              " 'http://books.toscrape.com/catalogue/category/books/historical_42/index.html',\n",
              " 'http://books.toscrape.com/catalogue/category/books/christian_43/index.html',\n",
              " 'http://books.toscrape.com/catalogue/category/books/suspense_44/index.html',\n",
              " 'http://books.toscrape.com/catalogue/category/books/short-stories_45/index.html',\n",
              " 'http://books.toscrape.com/catalogue/category/books/novels_46/index.html',\n",
              " 'http://books.toscrape.com/catalogue/category/books/health_47/index.html',\n",
              " 'http://books.toscrape.com/catalogue/category/books/politics_48/index.html',\n",
              " 'http://books.toscrape.com/catalogue/category/books/cultural_49/index.html',\n",
              " 'http://books.toscrape.com/catalogue/category/books/erotica_50/index.html',\n",
              " 'http://books.toscrape.com/catalogue/category/books/crime_51/index.html']"
            ]
          },
          "metadata": {},
          "execution_count": 14
        }
      ]
    },
    {
      "cell_type": "code",
      "metadata": {
        "colab": {
          "base_uri": "https://localhost:8080/"
        },
        "id": "_P5abV1HGnHk",
        "outputId": "fd0b0b59-d3aa-4e49-b896-38888cbbc353"
      },
      "source": [
        "topic_titles = []\n",
        "topic_tags[1].text.strip()\n",
        "for i,tag in enumerate (topic_tags):\n",
        "  if i==0:\n",
        "    continue\n",
        "  else:\n",
        "    topic_titles.append(tag.text.strip())\n",
        "    \n",
        "print(topic_titles)\n"
      ],
      "execution_count": null,
      "outputs": [
        {
          "output_type": "stream",
          "name": "stdout",
          "text": [
            "['Travel', 'Mystery', 'Historical Fiction', 'Sequential Art', 'Classics', 'Philosophy', 'Romance', 'Womens Fiction', 'Fiction', 'Childrens', 'Religion', 'Nonfiction', 'Music', 'Default', 'Science Fiction', 'Sports and Games', 'Add a comment', 'Fantasy', 'New Adult', 'Young Adult', 'Science', 'Poetry', 'Paranormal', 'Art', 'Psychology', 'Autobiography', 'Parenting', 'Adult Fiction', 'Humor', 'Horror', 'History', 'Food and Drink', 'Christian Fiction', 'Business', 'Biography', 'Thriller', 'Contemporary', 'Spirituality', 'Academic', 'Self Help', 'Historical', 'Christian', 'Suspense', 'Short Stories', 'Novels', 'Health', 'Politics', 'Cultural', 'Erotica', 'Crime']\n"
          ]
        }
      ]
    },
    {
      "cell_type": "code",
      "metadata": {
        "id": "a2CiLIWzKAB6"
      },
      "source": [
        "!pip install pandas --quiet\n"
      ],
      "execution_count": null,
      "outputs": []
    },
    {
      "cell_type": "code",
      "metadata": {
        "id": "aZkvjTFBNcFt"
      },
      "source": [
        "import pandas as pd"
      ],
      "execution_count": null,
      "outputs": []
    },
    {
      "cell_type": "code",
      "metadata": {
        "id": "CrVh10gtSM6V"
      },
      "source": [
        "#create a csv file for all the genre and its corresponding urls.\n",
        "topics_dict = {\n",
        "    'title': topic_titles,\n",
        "    'url': topic_urls\n",
        "}\n",
        "topics_df = pd.DataFrame(topics_dict)\n",
        "#topics_df\n",
        "topics_df.to_csv('topics.csv', index=None)\n"
      ],
      "execution_count": null,
      "outputs": []
    },
    {
      "cell_type": "markdown",
      "metadata": {
        "id": "dfYGQJzswVvX"
      },
      "source": [
        "# Obtain information from each genre"
      ]
    },
    {
      "cell_type": "code",
      "metadata": {
        "colab": {
          "base_uri": "https://localhost:8080/",
          "height": 35
        },
        "id": "fYArMi0LwbLL",
        "outputId": "27dabdc1-515b-450b-9bc9-adfb966f5818"
      },
      "source": [
        "topic_page_url = topic_urls[0]\n",
        "topic_page_url"
      ],
      "execution_count": null,
      "outputs": [
        {
          "output_type": "execute_result",
          "data": {
            "application/vnd.google.colaboratory.intrinsic+json": {
              "type": "string"
            },
            "text/plain": [
              "'http://books.toscrape.com/catalogue/category/books/travel_2/index.html'"
            ]
          },
          "metadata": {},
          "execution_count": 19
        }
      ]
    },
    {
      "cell_type": "code",
      "metadata": {
        "colab": {
          "base_uri": "https://localhost:8080/"
        },
        "id": "Ca92tGaRwizd",
        "outputId": "ef0481e0-d3db-4173-829e-4f769fe5fab7"
      },
      "source": [
        "response = requests.get(topic_page_url)\n",
        "response.status_code\n"
      ],
      "execution_count": null,
      "outputs": [
        {
          "output_type": "execute_result",
          "data": {
            "text/plain": [
              "200"
            ]
          },
          "metadata": {},
          "execution_count": 20
        }
      ]
    },
    {
      "cell_type": "code",
      "metadata": {
        "colab": {
          "base_uri": "https://localhost:8080/"
        },
        "id": "EKeu5J76wl6c",
        "outputId": "be184655-b590-4377-f86a-3cf6094c8ee4"
      },
      "source": [
        "len(response.text)\n"
      ],
      "execution_count": null,
      "outputs": [
        {
          "output_type": "execute_result",
          "data": {
            "text/plain": [
              "37009"
            ]
          },
          "metadata": {},
          "execution_count": 21
        }
      ]
    },
    {
      "cell_type": "code",
      "metadata": {
        "id": "ka3TDW8bwn6Q"
      },
      "source": [
        "topic_doc = BeautifulSoup(response.text, 'html.parser')\n",
        "#topic_doc\n"
      ],
      "execution_count": null,
      "outputs": []
    },
    {
      "cell_type": "code",
      "metadata": {
        "colab": {
          "base_uri": "https://localhost:8080/"
        },
        "id": "Y9v_KzQ2ws2s",
        "outputId": "b2756a63-8dce-4d43-be99-8a3ddcaa58ac"
      },
      "source": [
        "repo_tags = topic_doc.find_all('h3')\n",
        "repo_tags"
      ],
      "execution_count": null,
      "outputs": [
        {
          "output_type": "execute_result",
          "data": {
            "text/plain": [
              "[<h3><a href=\"../../../its-only-the-himalayas_981/index.html\" title=\"It's Only the Himalayas\">It's Only the Himalayas</a></h3>,\n",
              " <h3><a href=\"../../../full-moon-over-noahs-ark-an-odyssey-to-mount-ararat-and-beyond_811/index.html\" title=\"Full Moon over Noahâs Ark: An Odyssey to Mount Ararat and Beyond\">Full Moon over Noahâs ...</a></h3>,\n",
              " <h3><a href=\"../../../see-america-a-celebration-of-our-national-parks-treasured-sites_732/index.html\" title=\"See America: A Celebration of Our National Parks &amp; Treasured Sites\">See America: A Celebration ...</a></h3>,\n",
              " <h3><a href=\"../../../vagabonding-an-uncommon-guide-to-the-art-of-long-term-world-travel_552/index.html\" title=\"Vagabonding: An Uncommon Guide to the Art of Long-Term World Travel\">Vagabonding: An Uncommon Guide ...</a></h3>,\n",
              " <h3><a href=\"../../../under-the-tuscan-sun_504/index.html\" title=\"Under the Tuscan Sun\">Under the Tuscan Sun</a></h3>,\n",
              " <h3><a href=\"../../../a-summer-in-europe_458/index.html\" title=\"A Summer In Europe\">A Summer In Europe</a></h3>,\n",
              " <h3><a href=\"../../../the-great-railway-bazaar_446/index.html\" title=\"The Great Railway Bazaar\">The Great Railway Bazaar</a></h3>,\n",
              " <h3><a href=\"../../../a-year-in-provence-provence-1_421/index.html\" title=\"A Year in Provence (Provence #1)\">A Year in Provence ...</a></h3>,\n",
              " <h3><a href=\"../../../the-road-to-little-dribbling-adventures-of-an-american-in-britain-notes-from-a-small-island-2_277/index.html\" title=\"The Road to Little Dribbling: Adventures of an American in Britain (Notes From a Small Island #2)\">The Road to Little ...</a></h3>,\n",
              " <h3><a href=\"../../../neither-here-nor-there-travels-in-europe_198/index.html\" title=\"Neither Here nor There: Travels in Europe\">Neither Here nor There: ...</a></h3>,\n",
              " <h3><a href=\"../../../1000-places-to-see-before-you-die_1/index.html\" title=\"1,000 Places to See Before You Die\">1,000 Places to See ...</a></h3>]"
            ]
          },
          "metadata": {},
          "execution_count": 23
        }
      ]
    },
    {
      "cell_type": "code",
      "metadata": {
        "colab": {
          "base_uri": "https://localhost:8080/"
        },
        "id": "rgM8_NK-y6oh",
        "outputId": "7cd7b31b-05bd-4aab-fd0b-daedf794646c"
      },
      "source": [
        "\n",
        "topic_cur_genre = []\n",
        "for i,tag in enumerate (repo_tags):\n",
        "  topic_cur_genre.append(tag.text)\n",
        "    \n",
        "print(topic_cur_genre[3])"
      ],
      "execution_count": null,
      "outputs": [
        {
          "output_type": "stream",
          "name": "stdout",
          "text": [
            "Vagabonding: An Uncommon Guide ...\n"
          ]
        }
      ]
    },
    {
      "cell_type": "code",
      "metadata": {
        "colab": {
          "base_uri": "https://localhost:8080/"
        },
        "id": "-h7hg1340aCJ",
        "outputId": "6e487fa8-dd78-4d0f-a4be-08bc86f28355"
      },
      "source": [
        "price_cur_genre=[]\n",
        "p_tags = topic_doc.find_all('p', {'class': 'price_color'})\n",
        "for tags in p_tags:\n",
        "  price_cur_genre.append(tags.text)\n",
        "\n",
        "print(price_cur_genre[2])"
      ],
      "execution_count": null,
      "outputs": [
        {
          "output_type": "stream",
          "name": "stdout",
          "text": [
            "Â£48.87\n"
          ]
        }
      ]
    },
    {
      "cell_type": "code",
      "metadata": {
        "colab": {
          "base_uri": "https://localhost:8080/",
          "height": 35
        },
        "id": "RQDsDGpG03oj",
        "outputId": "4a0c9f96-487f-4853-be65-65b475ff06a3"
      },
      "source": [
        "avail_cur_genre=[]\n",
        "a_tags=topic_doc.find_all('p',{'class': 'instock availability'})\n",
        "for tags in a_tags:\n",
        "  avail_cur_genre.append(tags.text.strip())\n",
        "avail_cur_genre[2]"
      ],
      "execution_count": null,
      "outputs": [
        {
          "output_type": "execute_result",
          "data": {
            "application/vnd.google.colaboratory.intrinsic+json": {
              "type": "string"
            },
            "text/plain": [
              "'In stock'"
            ]
          },
          "metadata": {},
          "execution_count": 26
        }
      ]
    },
    {
      "cell_type": "code",
      "metadata": {
        "colab": {
          "base_uri": "https://localhost:8080/",
          "height": 35
        },
        "id": "RzlGq_LS2ZWq",
        "outputId": "1796b522-511d-4e69-d14e-24c62c327774"
      },
      "source": [
        "h3_tags = topic_doc.find_all('h3')\n",
        "\n",
        "urls_cur_genre=[]\n",
        "base_url = \"http://books.toscrape.com/catalogue/\"\n",
        "for tag in h3_tags:\n",
        "    urls_cur_genre.append(base_url + tag.contents[0]['href'][9:])\n",
        "urls_cur_genre[2]\n",
        "\n",
        "\n"
      ],
      "execution_count": null,
      "outputs": [
        {
          "output_type": "execute_result",
          "data": {
            "application/vnd.google.colaboratory.intrinsic+json": {
              "type": "string"
            },
            "text/plain": [
              "'http://books.toscrape.com/catalogue/see-america-a-celebration-of-our-national-parks-treasured-sites_732/index.html'"
            ]
          },
          "metadata": {},
          "execution_count": 27
        }
      ]
    },
    {
      "cell_type": "code",
      "metadata": {
        "id": "kd50ZQdD3aXf"
      },
      "source": [
        "#create a csv file for current genre book\n",
        "book_dict = {\n",
        "    'title': topic_cur_genre,\n",
        "    'price':price_cur_genre,\n",
        "    'availability':avail_cur_genre,\n",
        "    'url': urls_cur_genre\n",
        "}\n",
        "book_df = pd.DataFrame(book_dict)\n",
        "#topics_df\n",
        "book_df.to_csv('genre.csv', index=None)"
      ],
      "execution_count": null,
      "outputs": []
    },
    {
      "cell_type": "markdown",
      "metadata": {
        "id": "tXkurOxb7dL_"
      },
      "source": [
        "# scrape all genres and create a csv file for each genre"
      ]
    },
    {
      "cell_type": "code",
      "metadata": {
        "id": "jegrQ1XR7ZM7"
      },
      "source": [
        "def get_book_page(book_url):\n",
        "    # Download the page\n",
        "    response = requests.get(book_url)\n",
        "    # Check successful response\n",
        "    if response.status_code != 200:\n",
        "        raise Exception('Failed to load page {}'.format(book_url))\n",
        "    # Parse using Beautiful soup\n",
        "    book_doc = BeautifulSoup(response.text, 'html.parser')\n",
        "    return book_doc\n"
      ],
      "execution_count": 36,
      "outputs": []
    },
    {
      "cell_type": "code",
      "metadata": {
        "id": "45Sblus2Lf_q"
      },
      "source": [
        "def get_book_info(book_doc):\n",
        "    #get all the book info for a genre\n",
        "    #get bookname\n",
        "    n_tags = book_doc.find_all('h3')\n",
        "    bookname_cur_genre = []\n",
        "    for i,tag in enumerate (n_tags):\n",
        "      bookname_cur_genre.append(tag.text)\n",
        "    #get price\n",
        "    price_cur_genre=[]\n",
        "    p_tags = topic_doc.find_all('p', {'class': 'price_color'})\n",
        "    for tags in p_tags:\n",
        "      price_cur_genre.append(tags.text[2:])\n",
        "    #getavailbility\n",
        "    avail_cur_genre=[]\n",
        "    a_tags=topic_doc.find_all('p',{'class': 'instock availability'})\n",
        "    for tags in a_tags:\n",
        "      avail_cur_genre.append(tags.text.strip())\n",
        "    #get book url\n",
        "    h3_tags = topic_doc.find_all('h3')\n",
        "    urls_cur_genre=[]\n",
        "    base_url = \"http://books.toscrape.com/catalogue/\"\n",
        "    for tag in h3_tags:\n",
        "        urls_cur_genre.append(base_url + tag.contents[0]['href'][9:])\n",
        "\n",
        "    book_dict = {\n",
        "      'title': topic_cur_genre,\n",
        "      'price':price_cur_genre,\n",
        "      'availability':avail_cur_genre,\n",
        "      'url': urls_cur_genre\n",
        "    }\n",
        "    book_df = pd.DataFrame(book_dict)\n",
        "    return book_df\n"
      ],
      "execution_count": 37,
      "outputs": []
    },
    {
      "cell_type": "code",
      "metadata": {
        "colab": {
          "base_uri": "https://localhost:8080/",
          "height": 390
        },
        "id": "yOauKxO6Rlvg",
        "outputId": "4412b2fd-fb0c-4ec5-dc8a-01a3ea552cb5"
      },
      "source": [
        "link='http://books.toscrape.com/catalogue/category/books/travel_2/index.html'\n",
        "response = requests.get(link)\n",
        "book_doc = BeautifulSoup(response.text, 'html.parser')\n",
        "#book_doc\n",
        "get_book_info(book_doc)"
      ],
      "execution_count": 38,
      "outputs": [
        {
          "output_type": "execute_result",
          "data": {
            "text/html": [
              "<div>\n",
              "<style scoped>\n",
              "    .dataframe tbody tr th:only-of-type {\n",
              "        vertical-align: middle;\n",
              "    }\n",
              "\n",
              "    .dataframe tbody tr th {\n",
              "        vertical-align: top;\n",
              "    }\n",
              "\n",
              "    .dataframe thead th {\n",
              "        text-align: right;\n",
              "    }\n",
              "</style>\n",
              "<table border=\"1\" class=\"dataframe\">\n",
              "  <thead>\n",
              "    <tr style=\"text-align: right;\">\n",
              "      <th></th>\n",
              "      <th>title</th>\n",
              "      <th>price</th>\n",
              "      <th>availability</th>\n",
              "      <th>url</th>\n",
              "    </tr>\n",
              "  </thead>\n",
              "  <tbody>\n",
              "    <tr>\n",
              "      <th>0</th>\n",
              "      <td>It's Only the Himalayas</td>\n",
              "      <td>45.17</td>\n",
              "      <td>In stock</td>\n",
              "      <td>http://books.toscrape.com/catalogue/its-only-t...</td>\n",
              "    </tr>\n",
              "    <tr>\n",
              "      <th>1</th>\n",
              "      <td>Full Moon over Noahâs ...</td>\n",
              "      <td>49.43</td>\n",
              "      <td>In stock</td>\n",
              "      <td>http://books.toscrape.com/catalogue/full-moon-...</td>\n",
              "    </tr>\n",
              "    <tr>\n",
              "      <th>2</th>\n",
              "      <td>See America: A Celebration ...</td>\n",
              "      <td>48.87</td>\n",
              "      <td>In stock</td>\n",
              "      <td>http://books.toscrape.com/catalogue/see-americ...</td>\n",
              "    </tr>\n",
              "    <tr>\n",
              "      <th>3</th>\n",
              "      <td>Vagabonding: An Uncommon Guide ...</td>\n",
              "      <td>36.94</td>\n",
              "      <td>In stock</td>\n",
              "      <td>http://books.toscrape.com/catalogue/vagabondin...</td>\n",
              "    </tr>\n",
              "    <tr>\n",
              "      <th>4</th>\n",
              "      <td>Under the Tuscan Sun</td>\n",
              "      <td>37.33</td>\n",
              "      <td>In stock</td>\n",
              "      <td>http://books.toscrape.com/catalogue/under-the-...</td>\n",
              "    </tr>\n",
              "    <tr>\n",
              "      <th>5</th>\n",
              "      <td>A Summer In Europe</td>\n",
              "      <td>44.34</td>\n",
              "      <td>In stock</td>\n",
              "      <td>http://books.toscrape.com/catalogue/a-summer-i...</td>\n",
              "    </tr>\n",
              "    <tr>\n",
              "      <th>6</th>\n",
              "      <td>The Great Railway Bazaar</td>\n",
              "      <td>30.54</td>\n",
              "      <td>In stock</td>\n",
              "      <td>http://books.toscrape.com/catalogue/the-great-...</td>\n",
              "    </tr>\n",
              "    <tr>\n",
              "      <th>7</th>\n",
              "      <td>A Year in Provence ...</td>\n",
              "      <td>56.88</td>\n",
              "      <td>In stock</td>\n",
              "      <td>http://books.toscrape.com/catalogue/a-year-in-...</td>\n",
              "    </tr>\n",
              "    <tr>\n",
              "      <th>8</th>\n",
              "      <td>The Road to Little ...</td>\n",
              "      <td>23.21</td>\n",
              "      <td>In stock</td>\n",
              "      <td>http://books.toscrape.com/catalogue/the-road-t...</td>\n",
              "    </tr>\n",
              "    <tr>\n",
              "      <th>9</th>\n",
              "      <td>Neither Here nor There: ...</td>\n",
              "      <td>38.95</td>\n",
              "      <td>In stock</td>\n",
              "      <td>http://books.toscrape.com/catalogue/neither-he...</td>\n",
              "    </tr>\n",
              "    <tr>\n",
              "      <th>10</th>\n",
              "      <td>1,000 Places to See ...</td>\n",
              "      <td>26.08</td>\n",
              "      <td>In stock</td>\n",
              "      <td>http://books.toscrape.com/catalogue/1000-place...</td>\n",
              "    </tr>\n",
              "  </tbody>\n",
              "</table>\n",
              "</div>"
            ],
            "text/plain": [
              "                                 title  ...                                                url\n",
              "0              It's Only the Himalayas  ...  http://books.toscrape.com/catalogue/its-only-t...\n",
              "1          Full Moon over Noahâs ...  ...  http://books.toscrape.com/catalogue/full-moon-...\n",
              "2       See America: A Celebration ...  ...  http://books.toscrape.com/catalogue/see-americ...\n",
              "3   Vagabonding: An Uncommon Guide ...  ...  http://books.toscrape.com/catalogue/vagabondin...\n",
              "4                 Under the Tuscan Sun  ...  http://books.toscrape.com/catalogue/under-the-...\n",
              "5                   A Summer In Europe  ...  http://books.toscrape.com/catalogue/a-summer-i...\n",
              "6             The Great Railway Bazaar  ...  http://books.toscrape.com/catalogue/the-great-...\n",
              "7               A Year in Provence ...  ...  http://books.toscrape.com/catalogue/a-year-in-...\n",
              "8               The Road to Little ...  ...  http://books.toscrape.com/catalogue/the-road-t...\n",
              "9          Neither Here nor There: ...  ...  http://books.toscrape.com/catalogue/neither-he...\n",
              "10             1,000 Places to See ...  ...  http://books.toscrape.com/catalogue/1000-place...\n",
              "\n",
              "[11 rows x 4 columns]"
            ]
          },
          "metadata": {},
          "execution_count": 38
        }
      ]
    },
    {
      "cell_type": "code",
      "metadata": {
        "id": "d27QZup2Q0od"
      },
      "source": [
        "def scrape_topic(genre_url, path):\n",
        "    if os.path.exists(path):\n",
        "        print(\"The file {} already exists. Skipping...\".format(path))\n",
        "        return\n",
        "    book_df = get_book_info(get_book_page(genre_url))\n",
        "    book_df.to_csv(path, index=None)\n"
      ],
      "execution_count": 39,
      "outputs": []
    },
    {
      "cell_type": "code",
      "metadata": {
        "colab": {
          "base_uri": "https://localhost:8080/",
          "height": 1000
        },
        "id": "Ac5XapJRciFH",
        "outputId": "8e2918c1-a4a8-4a9d-866b-dfb3d55d8fb3"
      },
      "source": [
        "topics_df"
      ],
      "execution_count": 40,
      "outputs": [
        {
          "output_type": "execute_result",
          "data": {
            "text/html": [
              "<div>\n",
              "<style scoped>\n",
              "    .dataframe tbody tr th:only-of-type {\n",
              "        vertical-align: middle;\n",
              "    }\n",
              "\n",
              "    .dataframe tbody tr th {\n",
              "        vertical-align: top;\n",
              "    }\n",
              "\n",
              "    .dataframe thead th {\n",
              "        text-align: right;\n",
              "    }\n",
              "</style>\n",
              "<table border=\"1\" class=\"dataframe\">\n",
              "  <thead>\n",
              "    <tr style=\"text-align: right;\">\n",
              "      <th></th>\n",
              "      <th>title</th>\n",
              "      <th>url</th>\n",
              "    </tr>\n",
              "  </thead>\n",
              "  <tbody>\n",
              "    <tr>\n",
              "      <th>0</th>\n",
              "      <td>Travel</td>\n",
              "      <td>http://books.toscrape.com/catalogue/category/b...</td>\n",
              "    </tr>\n",
              "    <tr>\n",
              "      <th>1</th>\n",
              "      <td>Mystery</td>\n",
              "      <td>http://books.toscrape.com/catalogue/category/b...</td>\n",
              "    </tr>\n",
              "    <tr>\n",
              "      <th>2</th>\n",
              "      <td>Historical Fiction</td>\n",
              "      <td>http://books.toscrape.com/catalogue/category/b...</td>\n",
              "    </tr>\n",
              "    <tr>\n",
              "      <th>3</th>\n",
              "      <td>Sequential Art</td>\n",
              "      <td>http://books.toscrape.com/catalogue/category/b...</td>\n",
              "    </tr>\n",
              "    <tr>\n",
              "      <th>4</th>\n",
              "      <td>Classics</td>\n",
              "      <td>http://books.toscrape.com/catalogue/category/b...</td>\n",
              "    </tr>\n",
              "    <tr>\n",
              "      <th>5</th>\n",
              "      <td>Philosophy</td>\n",
              "      <td>http://books.toscrape.com/catalogue/category/b...</td>\n",
              "    </tr>\n",
              "    <tr>\n",
              "      <th>6</th>\n",
              "      <td>Romance</td>\n",
              "      <td>http://books.toscrape.com/catalogue/category/b...</td>\n",
              "    </tr>\n",
              "    <tr>\n",
              "      <th>7</th>\n",
              "      <td>Womens Fiction</td>\n",
              "      <td>http://books.toscrape.com/catalogue/category/b...</td>\n",
              "    </tr>\n",
              "    <tr>\n",
              "      <th>8</th>\n",
              "      <td>Fiction</td>\n",
              "      <td>http://books.toscrape.com/catalogue/category/b...</td>\n",
              "    </tr>\n",
              "    <tr>\n",
              "      <th>9</th>\n",
              "      <td>Childrens</td>\n",
              "      <td>http://books.toscrape.com/catalogue/category/b...</td>\n",
              "    </tr>\n",
              "    <tr>\n",
              "      <th>10</th>\n",
              "      <td>Religion</td>\n",
              "      <td>http://books.toscrape.com/catalogue/category/b...</td>\n",
              "    </tr>\n",
              "    <tr>\n",
              "      <th>11</th>\n",
              "      <td>Nonfiction</td>\n",
              "      <td>http://books.toscrape.com/catalogue/category/b...</td>\n",
              "    </tr>\n",
              "    <tr>\n",
              "      <th>12</th>\n",
              "      <td>Music</td>\n",
              "      <td>http://books.toscrape.com/catalogue/category/b...</td>\n",
              "    </tr>\n",
              "    <tr>\n",
              "      <th>13</th>\n",
              "      <td>Default</td>\n",
              "      <td>http://books.toscrape.com/catalogue/category/b...</td>\n",
              "    </tr>\n",
              "    <tr>\n",
              "      <th>14</th>\n",
              "      <td>Science Fiction</td>\n",
              "      <td>http://books.toscrape.com/catalogue/category/b...</td>\n",
              "    </tr>\n",
              "    <tr>\n",
              "      <th>15</th>\n",
              "      <td>Sports and Games</td>\n",
              "      <td>http://books.toscrape.com/catalogue/category/b...</td>\n",
              "    </tr>\n",
              "    <tr>\n",
              "      <th>16</th>\n",
              "      <td>Add a comment</td>\n",
              "      <td>http://books.toscrape.com/catalogue/category/b...</td>\n",
              "    </tr>\n",
              "    <tr>\n",
              "      <th>17</th>\n",
              "      <td>Fantasy</td>\n",
              "      <td>http://books.toscrape.com/catalogue/category/b...</td>\n",
              "    </tr>\n",
              "    <tr>\n",
              "      <th>18</th>\n",
              "      <td>New Adult</td>\n",
              "      <td>http://books.toscrape.com/catalogue/category/b...</td>\n",
              "    </tr>\n",
              "    <tr>\n",
              "      <th>19</th>\n",
              "      <td>Young Adult</td>\n",
              "      <td>http://books.toscrape.com/catalogue/category/b...</td>\n",
              "    </tr>\n",
              "    <tr>\n",
              "      <th>20</th>\n",
              "      <td>Science</td>\n",
              "      <td>http://books.toscrape.com/catalogue/category/b...</td>\n",
              "    </tr>\n",
              "    <tr>\n",
              "      <th>21</th>\n",
              "      <td>Poetry</td>\n",
              "      <td>http://books.toscrape.com/catalogue/category/b...</td>\n",
              "    </tr>\n",
              "    <tr>\n",
              "      <th>22</th>\n",
              "      <td>Paranormal</td>\n",
              "      <td>http://books.toscrape.com/catalogue/category/b...</td>\n",
              "    </tr>\n",
              "    <tr>\n",
              "      <th>23</th>\n",
              "      <td>Art</td>\n",
              "      <td>http://books.toscrape.com/catalogue/category/b...</td>\n",
              "    </tr>\n",
              "    <tr>\n",
              "      <th>24</th>\n",
              "      <td>Psychology</td>\n",
              "      <td>http://books.toscrape.com/catalogue/category/b...</td>\n",
              "    </tr>\n",
              "    <tr>\n",
              "      <th>25</th>\n",
              "      <td>Autobiography</td>\n",
              "      <td>http://books.toscrape.com/catalogue/category/b...</td>\n",
              "    </tr>\n",
              "    <tr>\n",
              "      <th>26</th>\n",
              "      <td>Parenting</td>\n",
              "      <td>http://books.toscrape.com/catalogue/category/b...</td>\n",
              "    </tr>\n",
              "    <tr>\n",
              "      <th>27</th>\n",
              "      <td>Adult Fiction</td>\n",
              "      <td>http://books.toscrape.com/catalogue/category/b...</td>\n",
              "    </tr>\n",
              "    <tr>\n",
              "      <th>28</th>\n",
              "      <td>Humor</td>\n",
              "      <td>http://books.toscrape.com/catalogue/category/b...</td>\n",
              "    </tr>\n",
              "    <tr>\n",
              "      <th>29</th>\n",
              "      <td>Horror</td>\n",
              "      <td>http://books.toscrape.com/catalogue/category/b...</td>\n",
              "    </tr>\n",
              "    <tr>\n",
              "      <th>30</th>\n",
              "      <td>History</td>\n",
              "      <td>http://books.toscrape.com/catalogue/category/b...</td>\n",
              "    </tr>\n",
              "    <tr>\n",
              "      <th>31</th>\n",
              "      <td>Food and Drink</td>\n",
              "      <td>http://books.toscrape.com/catalogue/category/b...</td>\n",
              "    </tr>\n",
              "    <tr>\n",
              "      <th>32</th>\n",
              "      <td>Christian Fiction</td>\n",
              "      <td>http://books.toscrape.com/catalogue/category/b...</td>\n",
              "    </tr>\n",
              "    <tr>\n",
              "      <th>33</th>\n",
              "      <td>Business</td>\n",
              "      <td>http://books.toscrape.com/catalogue/category/b...</td>\n",
              "    </tr>\n",
              "    <tr>\n",
              "      <th>34</th>\n",
              "      <td>Biography</td>\n",
              "      <td>http://books.toscrape.com/catalogue/category/b...</td>\n",
              "    </tr>\n",
              "    <tr>\n",
              "      <th>35</th>\n",
              "      <td>Thriller</td>\n",
              "      <td>http://books.toscrape.com/catalogue/category/b...</td>\n",
              "    </tr>\n",
              "    <tr>\n",
              "      <th>36</th>\n",
              "      <td>Contemporary</td>\n",
              "      <td>http://books.toscrape.com/catalogue/category/b...</td>\n",
              "    </tr>\n",
              "    <tr>\n",
              "      <th>37</th>\n",
              "      <td>Spirituality</td>\n",
              "      <td>http://books.toscrape.com/catalogue/category/b...</td>\n",
              "    </tr>\n",
              "    <tr>\n",
              "      <th>38</th>\n",
              "      <td>Academic</td>\n",
              "      <td>http://books.toscrape.com/catalogue/category/b...</td>\n",
              "    </tr>\n",
              "    <tr>\n",
              "      <th>39</th>\n",
              "      <td>Self Help</td>\n",
              "      <td>http://books.toscrape.com/catalogue/category/b...</td>\n",
              "    </tr>\n",
              "    <tr>\n",
              "      <th>40</th>\n",
              "      <td>Historical</td>\n",
              "      <td>http://books.toscrape.com/catalogue/category/b...</td>\n",
              "    </tr>\n",
              "    <tr>\n",
              "      <th>41</th>\n",
              "      <td>Christian</td>\n",
              "      <td>http://books.toscrape.com/catalogue/category/b...</td>\n",
              "    </tr>\n",
              "    <tr>\n",
              "      <th>42</th>\n",
              "      <td>Suspense</td>\n",
              "      <td>http://books.toscrape.com/catalogue/category/b...</td>\n",
              "    </tr>\n",
              "    <tr>\n",
              "      <th>43</th>\n",
              "      <td>Short Stories</td>\n",
              "      <td>http://books.toscrape.com/catalogue/category/b...</td>\n",
              "    </tr>\n",
              "    <tr>\n",
              "      <th>44</th>\n",
              "      <td>Novels</td>\n",
              "      <td>http://books.toscrape.com/catalogue/category/b...</td>\n",
              "    </tr>\n",
              "    <tr>\n",
              "      <th>45</th>\n",
              "      <td>Health</td>\n",
              "      <td>http://books.toscrape.com/catalogue/category/b...</td>\n",
              "    </tr>\n",
              "    <tr>\n",
              "      <th>46</th>\n",
              "      <td>Politics</td>\n",
              "      <td>http://books.toscrape.com/catalogue/category/b...</td>\n",
              "    </tr>\n",
              "    <tr>\n",
              "      <th>47</th>\n",
              "      <td>Cultural</td>\n",
              "      <td>http://books.toscrape.com/catalogue/category/b...</td>\n",
              "    </tr>\n",
              "    <tr>\n",
              "      <th>48</th>\n",
              "      <td>Erotica</td>\n",
              "      <td>http://books.toscrape.com/catalogue/category/b...</td>\n",
              "    </tr>\n",
              "    <tr>\n",
              "      <th>49</th>\n",
              "      <td>Crime</td>\n",
              "      <td>http://books.toscrape.com/catalogue/category/b...</td>\n",
              "    </tr>\n",
              "  </tbody>\n",
              "</table>\n",
              "</div>"
            ],
            "text/plain": [
              "                 title                                                url\n",
              "0               Travel  http://books.toscrape.com/catalogue/category/b...\n",
              "1              Mystery  http://books.toscrape.com/catalogue/category/b...\n",
              "2   Historical Fiction  http://books.toscrape.com/catalogue/category/b...\n",
              "3       Sequential Art  http://books.toscrape.com/catalogue/category/b...\n",
              "4             Classics  http://books.toscrape.com/catalogue/category/b...\n",
              "5           Philosophy  http://books.toscrape.com/catalogue/category/b...\n",
              "6              Romance  http://books.toscrape.com/catalogue/category/b...\n",
              "7       Womens Fiction  http://books.toscrape.com/catalogue/category/b...\n",
              "8              Fiction  http://books.toscrape.com/catalogue/category/b...\n",
              "9            Childrens  http://books.toscrape.com/catalogue/category/b...\n",
              "10            Religion  http://books.toscrape.com/catalogue/category/b...\n",
              "11          Nonfiction  http://books.toscrape.com/catalogue/category/b...\n",
              "12               Music  http://books.toscrape.com/catalogue/category/b...\n",
              "13             Default  http://books.toscrape.com/catalogue/category/b...\n",
              "14     Science Fiction  http://books.toscrape.com/catalogue/category/b...\n",
              "15    Sports and Games  http://books.toscrape.com/catalogue/category/b...\n",
              "16       Add a comment  http://books.toscrape.com/catalogue/category/b...\n",
              "17             Fantasy  http://books.toscrape.com/catalogue/category/b...\n",
              "18           New Adult  http://books.toscrape.com/catalogue/category/b...\n",
              "19         Young Adult  http://books.toscrape.com/catalogue/category/b...\n",
              "20             Science  http://books.toscrape.com/catalogue/category/b...\n",
              "21              Poetry  http://books.toscrape.com/catalogue/category/b...\n",
              "22          Paranormal  http://books.toscrape.com/catalogue/category/b...\n",
              "23                 Art  http://books.toscrape.com/catalogue/category/b...\n",
              "24          Psychology  http://books.toscrape.com/catalogue/category/b...\n",
              "25       Autobiography  http://books.toscrape.com/catalogue/category/b...\n",
              "26           Parenting  http://books.toscrape.com/catalogue/category/b...\n",
              "27       Adult Fiction  http://books.toscrape.com/catalogue/category/b...\n",
              "28               Humor  http://books.toscrape.com/catalogue/category/b...\n",
              "29              Horror  http://books.toscrape.com/catalogue/category/b...\n",
              "30             History  http://books.toscrape.com/catalogue/category/b...\n",
              "31      Food and Drink  http://books.toscrape.com/catalogue/category/b...\n",
              "32   Christian Fiction  http://books.toscrape.com/catalogue/category/b...\n",
              "33            Business  http://books.toscrape.com/catalogue/category/b...\n",
              "34           Biography  http://books.toscrape.com/catalogue/category/b...\n",
              "35            Thriller  http://books.toscrape.com/catalogue/category/b...\n",
              "36        Contemporary  http://books.toscrape.com/catalogue/category/b...\n",
              "37        Spirituality  http://books.toscrape.com/catalogue/category/b...\n",
              "38            Academic  http://books.toscrape.com/catalogue/category/b...\n",
              "39           Self Help  http://books.toscrape.com/catalogue/category/b...\n",
              "40          Historical  http://books.toscrape.com/catalogue/category/b...\n",
              "41           Christian  http://books.toscrape.com/catalogue/category/b...\n",
              "42            Suspense  http://books.toscrape.com/catalogue/category/b...\n",
              "43       Short Stories  http://books.toscrape.com/catalogue/category/b...\n",
              "44              Novels  http://books.toscrape.com/catalogue/category/b...\n",
              "45              Health  http://books.toscrape.com/catalogue/category/b...\n",
              "46            Politics  http://books.toscrape.com/catalogue/category/b...\n",
              "47            Cultural  http://books.toscrape.com/catalogue/category/b...\n",
              "48             Erotica  http://books.toscrape.com/catalogue/category/b...\n",
              "49               Crime  http://books.toscrape.com/catalogue/category/b..."
            ]
          },
          "metadata": {},
          "execution_count": 40
        }
      ]
    },
    {
      "cell_type": "code",
      "metadata": {
        "id": "UpBBDk7Dczzb"
      },
      "source": [
        "import os\n",
        "def scrape_topics_books():\n",
        "    print('Scraping list of topics')\n",
        "    topics_df1 = topics_df\n",
        "    \n",
        "    os.makedirs('data', exist_ok=True)\n",
        "    for index, row in topics_df1.iterrows():\n",
        "        print('Scraping top repositories for \"{}\"'.format(row['title']))\n",
        "        scrape_topic(row['url'], 'data/{}.csv'.format(row['title']))"
      ],
      "execution_count": 41,
      "outputs": []
    },
    {
      "cell_type": "code",
      "metadata": {
        "colab": {
          "base_uri": "https://localhost:8080/"
        },
        "id": "Qh91USbTehY5",
        "outputId": "c11a688a-0397-44fc-ab65-a2d7c2d24661"
      },
      "source": [
        "scrape_topics_books()"
      ],
      "execution_count": 42,
      "outputs": [
        {
          "output_type": "stream",
          "name": "stdout",
          "text": [
            "Scraping list of topics\n",
            "Scraping top repositories for \"Travel\"\n",
            "The file data/Travel.csv already exists. Skipping...\n",
            "Scraping top repositories for \"Mystery\"\n",
            "The file data/Mystery.csv already exists. Skipping...\n",
            "Scraping top repositories for \"Historical Fiction\"\n",
            "The file data/Historical Fiction.csv already exists. Skipping...\n",
            "Scraping top repositories for \"Sequential Art\"\n",
            "The file data/Sequential Art.csv already exists. Skipping...\n",
            "Scraping top repositories for \"Classics\"\n",
            "The file data/Classics.csv already exists. Skipping...\n",
            "Scraping top repositories for \"Philosophy\"\n",
            "The file data/Philosophy.csv already exists. Skipping...\n",
            "Scraping top repositories for \"Romance\"\n",
            "The file data/Romance.csv already exists. Skipping...\n",
            "Scraping top repositories for \"Womens Fiction\"\n",
            "The file data/Womens Fiction.csv already exists. Skipping...\n",
            "Scraping top repositories for \"Fiction\"\n",
            "The file data/Fiction.csv already exists. Skipping...\n",
            "Scraping top repositories for \"Childrens\"\n",
            "The file data/Childrens.csv already exists. Skipping...\n",
            "Scraping top repositories for \"Religion\"\n",
            "The file data/Religion.csv already exists. Skipping...\n",
            "Scraping top repositories for \"Nonfiction\"\n",
            "The file data/Nonfiction.csv already exists. Skipping...\n",
            "Scraping top repositories for \"Music\"\n",
            "The file data/Music.csv already exists. Skipping...\n",
            "Scraping top repositories for \"Default\"\n",
            "The file data/Default.csv already exists. Skipping...\n",
            "Scraping top repositories for \"Science Fiction\"\n",
            "The file data/Science Fiction.csv already exists. Skipping...\n",
            "Scraping top repositories for \"Sports and Games\"\n",
            "The file data/Sports and Games.csv already exists. Skipping...\n",
            "Scraping top repositories for \"Add a comment\"\n",
            "The file data/Add a comment.csv already exists. Skipping...\n",
            "Scraping top repositories for \"Fantasy\"\n",
            "The file data/Fantasy.csv already exists. Skipping...\n",
            "Scraping top repositories for \"New Adult\"\n",
            "The file data/New Adult.csv already exists. Skipping...\n",
            "Scraping top repositories for \"Young Adult\"\n",
            "The file data/Young Adult.csv already exists. Skipping...\n",
            "Scraping top repositories for \"Science\"\n",
            "The file data/Science.csv already exists. Skipping...\n",
            "Scraping top repositories for \"Poetry\"\n",
            "The file data/Poetry.csv already exists. Skipping...\n",
            "Scraping top repositories for \"Paranormal\"\n",
            "The file data/Paranormal.csv already exists. Skipping...\n",
            "Scraping top repositories for \"Art\"\n",
            "The file data/Art.csv already exists. Skipping...\n",
            "Scraping top repositories for \"Psychology\"\n",
            "The file data/Psychology.csv already exists. Skipping...\n",
            "Scraping top repositories for \"Autobiography\"\n",
            "The file data/Autobiography.csv already exists. Skipping...\n",
            "Scraping top repositories for \"Parenting\"\n",
            "The file data/Parenting.csv already exists. Skipping...\n",
            "Scraping top repositories for \"Adult Fiction\"\n",
            "The file data/Adult Fiction.csv already exists. Skipping...\n",
            "Scraping top repositories for \"Humor\"\n",
            "The file data/Humor.csv already exists. Skipping...\n",
            "Scraping top repositories for \"Horror\"\n",
            "The file data/Horror.csv already exists. Skipping...\n",
            "Scraping top repositories for \"History\"\n",
            "The file data/History.csv already exists. Skipping...\n",
            "Scraping top repositories for \"Food and Drink\"\n",
            "The file data/Food and Drink.csv already exists. Skipping...\n",
            "Scraping top repositories for \"Christian Fiction\"\n",
            "The file data/Christian Fiction.csv already exists. Skipping...\n",
            "Scraping top repositories for \"Business\"\n",
            "The file data/Business.csv already exists. Skipping...\n",
            "Scraping top repositories for \"Biography\"\n",
            "The file data/Biography.csv already exists. Skipping...\n",
            "Scraping top repositories for \"Thriller\"\n",
            "The file data/Thriller.csv already exists. Skipping...\n",
            "Scraping top repositories for \"Contemporary\"\n",
            "The file data/Contemporary.csv already exists. Skipping...\n",
            "Scraping top repositories for \"Spirituality\"\n",
            "The file data/Spirituality.csv already exists. Skipping...\n",
            "Scraping top repositories for \"Academic\"\n",
            "The file data/Academic.csv already exists. Skipping...\n",
            "Scraping top repositories for \"Self Help\"\n",
            "The file data/Self Help.csv already exists. Skipping...\n",
            "Scraping top repositories for \"Historical\"\n",
            "The file data/Historical.csv already exists. Skipping...\n",
            "Scraping top repositories for \"Christian\"\n",
            "The file data/Christian.csv already exists. Skipping...\n",
            "Scraping top repositories for \"Suspense\"\n",
            "The file data/Suspense.csv already exists. Skipping...\n",
            "Scraping top repositories for \"Short Stories\"\n",
            "The file data/Short Stories.csv already exists. Skipping...\n",
            "Scraping top repositories for \"Novels\"\n",
            "The file data/Novels.csv already exists. Skipping...\n",
            "Scraping top repositories for \"Health\"\n",
            "The file data/Health.csv already exists. Skipping...\n",
            "Scraping top repositories for \"Politics\"\n",
            "The file data/Politics.csv already exists. Skipping...\n",
            "Scraping top repositories for \"Cultural\"\n",
            "The file data/Cultural.csv already exists. Skipping...\n",
            "Scraping top repositories for \"Erotica\"\n",
            "The file data/Erotica.csv already exists. Skipping...\n",
            "Scraping top repositories for \"Crime\"\n",
            "The file data/Crime.csv already exists. Skipping...\n"
          ]
        }
      ]
    }
  ]
}