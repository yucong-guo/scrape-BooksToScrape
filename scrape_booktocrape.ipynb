{
  "nbformat": 4,
  "nbformat_minor": 0,
  "metadata": {
    "colab": {
      "name": "scrape_booktocrape.ipynb",
      "provenance": []
    },
    "kernelspec": {
      "name": "python3",
      "display_name": "Python 3"
    },
    "language_info": {
      "name": "python"
    }
  },
  "cells": [
    {
      "cell_type": "markdown",
      "metadata": {
        "id": "ciBFUjOv8a3i"
      },
      "source": [
        "##                           Bestseller Book for Each Genres in \"books to scrape\" website"
      ]
    },
    {
      "cell_type": "markdown",
      "metadata": {
        "id": "40tQYlaQ8mXV"
      },
      "source": [
        "Project outline:\n",
        "I am going to scrab the webpage: https://books.toscrape.com/\n",
        "\n",
        "-I will get a list of genres.\n",
        "\n",
        "-For each genre,I will grab the all the book listed.\n",
        "\n",
        "-For each book, I will grab the book's name, price, availability, and urls.\n",
        "\n",
        "-For each genre, I will create a cvs file in the Following format:\n",
        "\n",
        "         book name,  price, availability, urls"
      ]
    },
    {
      "cell_type": "markdown",
      "metadata": {
        "id": "-udS77ip8qQV"
      },
      "source": [
        "# Download request library to download webpage"
      ]
    },
    {
      "cell_type": "code",
      "metadata": {
        "id": "00dSawJc8eKH",
        "colab": {
          "base_uri": "https://localhost:8080/"
        },
        "outputId": "71c6581c-6838-4e55-a2a0-c871256f0944"
      },
      "source": [
        "!pip install requests --upgrade --quiet\n"
      ],
      "execution_count": 1,
      "outputs": [
        {
          "output_type": "stream",
          "name": "stdout",
          "text": [
            "\u001b[?25l\r\u001b[K     |█████▎                          | 10 kB 28.9 MB/s eta 0:00:01\r\u001b[K     |██████████▌                     | 20 kB 26.8 MB/s eta 0:00:01\r\u001b[K     |███████████████▉                | 30 kB 19.2 MB/s eta 0:00:01\r\u001b[K     |█████████████████████           | 40 kB 16.7 MB/s eta 0:00:01\r\u001b[K     |██████████████████████████▎     | 51 kB 8.2 MB/s eta 0:00:01\r\u001b[K     |███████████████████████████████▋| 61 kB 9.5 MB/s eta 0:00:01\r\u001b[K     |████████████████████████████████| 62 kB 957 kB/s \n",
            "\u001b[31mERROR: pip's dependency resolver does not currently take into account all the packages that are installed. This behaviour is the source of the following dependency conflicts.\n",
            "google-colab 1.0.0 requires requests~=2.23.0, but you have requests 2.26.0 which is incompatible.\n",
            "datascience 0.10.6 requires folium==0.2.1, but you have folium 0.8.3 which is incompatible.\u001b[0m\n",
            "\u001b[?25h"
          ]
        }
      ]
    },
    {
      "cell_type": "code",
      "metadata": {
        "id": "6vlSDJfw8eVm"
      },
      "source": [
        "import requests"
      ],
      "execution_count": 2,
      "outputs": []
    },
    {
      "cell_type": "code",
      "metadata": {
        "id": "wRxrxLV88-5K"
      },
      "source": [
        "topics_url = 'http://books.toscrape.com'\n"
      ],
      "execution_count": 3,
      "outputs": []
    },
    {
      "cell_type": "code",
      "metadata": {
        "id": "6BRqSMl-9BBj"
      },
      "source": [
        "response = requests.get(topics_url)\n"
      ],
      "execution_count": 4,
      "outputs": []
    },
    {
      "cell_type": "code",
      "metadata": {
        "colab": {
          "base_uri": "https://localhost:8080/"
        },
        "id": "V95gXpbe9ERk",
        "outputId": "804f5f71-5682-4192-c7db-8fba9f2b8cc5"
      },
      "source": [
        "response.status_code\n"
      ],
      "execution_count": 5,
      "outputs": [
        {
          "output_type": "execute_result",
          "data": {
            "text/plain": [
              "200"
            ]
          },
          "metadata": {},
          "execution_count": 5
        }
      ]
    },
    {
      "cell_type": "code",
      "metadata": {
        "colab": {
          "base_uri": "https://localhost:8080/"
        },
        "id": "CIFoKbTv9EUX",
        "outputId": "68e7407c-883d-4c42-9a3e-1456f166a20e"
      },
      "source": [
        "len(response.text)\n"
      ],
      "execution_count": 6,
      "outputs": [
        {
          "output_type": "execute_result",
          "data": {
            "text/plain": [
              "51294"
            ]
          },
          "metadata": {},
          "execution_count": 6
        }
      ]
    },
    {
      "cell_type": "code",
      "metadata": {
        "id": "rkrvLwDd9Hww"
      },
      "source": [
        "page_contents = response.text\n",
        "\n",
        "\n"
      ],
      "execution_count": 7,
      "outputs": []
    },
    {
      "cell_type": "code",
      "metadata": {
        "id": "6lRaYiiX9Hz6"
      },
      "source": [
        "with open('webpage.html', 'w') as f:\n",
        "    f.write(page_contents)"
      ],
      "execution_count": 8,
      "outputs": []
    },
    {
      "cell_type": "markdown",
      "metadata": {
        "id": "NRw0srKt9W_X"
      },
      "source": [
        "\n",
        "# Use Beautiful Soup to parse and extract information"
      ]
    },
    {
      "cell_type": "code",
      "metadata": {
        "id": "wDBep_nd9H2t",
        "colab": {
          "base_uri": "https://localhost:8080/"
        },
        "outputId": "d81ebdfa-44fd-45f5-ca90-0584d3fb432a"
      },
      "source": [
        "!pip install beautifulsoup4 --upgrade --quiet\n"
      ],
      "execution_count": 9,
      "outputs": [
        {
          "output_type": "stream",
          "name": "stdout",
          "text": [
            "\u001b[?25l\r\u001b[K     |███▍                            | 10 kB 28.5 MB/s eta 0:00:01\r\u001b[K     |██████▊                         | 20 kB 21.3 MB/s eta 0:00:01\r\u001b[K     |██████████                      | 30 kB 16.1 MB/s eta 0:00:01\r\u001b[K     |█████████████▌                  | 40 kB 14.3 MB/s eta 0:00:01\r\u001b[K     |████████████████▉               | 51 kB 6.6 MB/s eta 0:00:01\r\u001b[K     |████████████████████▏           | 61 kB 7.0 MB/s eta 0:00:01\r\u001b[K     |███████████████████████▌        | 71 kB 7.4 MB/s eta 0:00:01\r\u001b[K     |███████████████████████████     | 81 kB 8.4 MB/s eta 0:00:01\r\u001b[K     |██████████████████████████████▎ | 92 kB 8.6 MB/s eta 0:00:01\r\u001b[K     |████████████████████████████████| 97 kB 4.4 MB/s \n",
            "\u001b[?25h"
          ]
        }
      ]
    },
    {
      "cell_type": "code",
      "metadata": {
        "id": "ShcllvLe9H5K"
      },
      "source": [
        "from bs4 import BeautifulSoup\n",
        "import re\n"
      ],
      "execution_count": 10,
      "outputs": []
    },
    {
      "cell_type": "code",
      "metadata": {
        "id": "5byxIPjT9yEa"
      },
      "source": [
        "doc = BeautifulSoup(page_contents, 'html.parser')\n"
      ],
      "execution_count": 11,
      "outputs": []
    },
    {
      "cell_type": "code",
      "metadata": {
        "id": "QUGAkhnb9yJ8"
      },
      "source": [
        "topic_tags=doc.find_all('a',href=re.compile(\"books\"))\n",
        "#print(topic_tags[:5])\n"
      ],
      "execution_count": 12,
      "outputs": []
    },
    {
      "cell_type": "code",
      "source": [
        "from google.colab import drive\n",
        "drive.mount('/content/drive')"
      ],
      "metadata": {
        "colab": {
          "base_uri": "https://localhost:8080/"
        },
        "id": "4iy8AsMIk_8M",
        "outputId": "30070a6c-a1dd-47b4-9a6f-6ec400038709"
      },
      "execution_count": 13,
      "outputs": [
        {
          "output_type": "stream",
          "name": "stdout",
          "text": [
            "Mounted at /content/drive\n"
          ]
        }
      ]
    },
    {
      "cell_type": "code",
      "metadata": {
        "colab": {
          "base_uri": "https://localhost:8080/"
        },
        "id": "sYlVy9GD9yM4",
        "outputId": "c353b9cc-eaa3-4409-edc2-73edc82e36cb"
      },
      "source": [
        "topic_urls=[]\n",
        "base_urls='http://books.toscrape.com/'\n",
        "for i ,tags in enumerate (topic_tags):\n",
        "  if i==0:\n",
        "    continue\n",
        "  else:\n",
        "      topic_urls.append(base_urls+tags['href'])\n",
        "topic_urls"
      ],
      "execution_count": 14,
      "outputs": [
        {
          "output_type": "execute_result",
          "data": {
            "text/plain": [
              "['http://books.toscrape.com/catalogue/category/books/travel_2/index.html',\n",
              " 'http://books.toscrape.com/catalogue/category/books/mystery_3/index.html',\n",
              " 'http://books.toscrape.com/catalogue/category/books/historical-fiction_4/index.html',\n",
              " 'http://books.toscrape.com/catalogue/category/books/sequential-art_5/index.html',\n",
              " 'http://books.toscrape.com/catalogue/category/books/classics_6/index.html',\n",
              " 'http://books.toscrape.com/catalogue/category/books/philosophy_7/index.html',\n",
              " 'http://books.toscrape.com/catalogue/category/books/romance_8/index.html',\n",
              " 'http://books.toscrape.com/catalogue/category/books/womens-fiction_9/index.html',\n",
              " 'http://books.toscrape.com/catalogue/category/books/fiction_10/index.html',\n",
              " 'http://books.toscrape.com/catalogue/category/books/childrens_11/index.html',\n",
              " 'http://books.toscrape.com/catalogue/category/books/religion_12/index.html',\n",
              " 'http://books.toscrape.com/catalogue/category/books/nonfiction_13/index.html',\n",
              " 'http://books.toscrape.com/catalogue/category/books/music_14/index.html',\n",
              " 'http://books.toscrape.com/catalogue/category/books/default_15/index.html',\n",
              " 'http://books.toscrape.com/catalogue/category/books/science-fiction_16/index.html',\n",
              " 'http://books.toscrape.com/catalogue/category/books/sports-and-games_17/index.html',\n",
              " 'http://books.toscrape.com/catalogue/category/books/add-a-comment_18/index.html',\n",
              " 'http://books.toscrape.com/catalogue/category/books/fantasy_19/index.html',\n",
              " 'http://books.toscrape.com/catalogue/category/books/new-adult_20/index.html',\n",
              " 'http://books.toscrape.com/catalogue/category/books/young-adult_21/index.html',\n",
              " 'http://books.toscrape.com/catalogue/category/books/science_22/index.html',\n",
              " 'http://books.toscrape.com/catalogue/category/books/poetry_23/index.html',\n",
              " 'http://books.toscrape.com/catalogue/category/books/paranormal_24/index.html',\n",
              " 'http://books.toscrape.com/catalogue/category/books/art_25/index.html',\n",
              " 'http://books.toscrape.com/catalogue/category/books/psychology_26/index.html',\n",
              " 'http://books.toscrape.com/catalogue/category/books/autobiography_27/index.html',\n",
              " 'http://books.toscrape.com/catalogue/category/books/parenting_28/index.html',\n",
              " 'http://books.toscrape.com/catalogue/category/books/adult-fiction_29/index.html',\n",
              " 'http://books.toscrape.com/catalogue/category/books/humor_30/index.html',\n",
              " 'http://books.toscrape.com/catalogue/category/books/horror_31/index.html',\n",
              " 'http://books.toscrape.com/catalogue/category/books/history_32/index.html',\n",
              " 'http://books.toscrape.com/catalogue/category/books/food-and-drink_33/index.html',\n",
              " 'http://books.toscrape.com/catalogue/category/books/christian-fiction_34/index.html',\n",
              " 'http://books.toscrape.com/catalogue/category/books/business_35/index.html',\n",
              " 'http://books.toscrape.com/catalogue/category/books/biography_36/index.html',\n",
              " 'http://books.toscrape.com/catalogue/category/books/thriller_37/index.html',\n",
              " 'http://books.toscrape.com/catalogue/category/books/contemporary_38/index.html',\n",
              " 'http://books.toscrape.com/catalogue/category/books/spirituality_39/index.html',\n",
              " 'http://books.toscrape.com/catalogue/category/books/academic_40/index.html',\n",
              " 'http://books.toscrape.com/catalogue/category/books/self-help_41/index.html',\n",
              " 'http://books.toscrape.com/catalogue/category/books/historical_42/index.html',\n",
              " 'http://books.toscrape.com/catalogue/category/books/christian_43/index.html',\n",
              " 'http://books.toscrape.com/catalogue/category/books/suspense_44/index.html',\n",
              " 'http://books.toscrape.com/catalogue/category/books/short-stories_45/index.html',\n",
              " 'http://books.toscrape.com/catalogue/category/books/novels_46/index.html',\n",
              " 'http://books.toscrape.com/catalogue/category/books/health_47/index.html',\n",
              " 'http://books.toscrape.com/catalogue/category/books/politics_48/index.html',\n",
              " 'http://books.toscrape.com/catalogue/category/books/cultural_49/index.html',\n",
              " 'http://books.toscrape.com/catalogue/category/books/erotica_50/index.html',\n",
              " 'http://books.toscrape.com/catalogue/category/books/crime_51/index.html']"
            ]
          },
          "metadata": {},
          "execution_count": 14
        }
      ]
    },
    {
      "cell_type": "code",
      "metadata": {
        "colab": {
          "base_uri": "https://localhost:8080/"
        },
        "id": "_P5abV1HGnHk",
        "outputId": "e55d3e02-aaf5-4b5b-b731-7fa872f8f6e6"
      },
      "source": [
        "topic_titles = []\n",
        "topic_tags[1].text.strip()\n",
        "for i,tag in enumerate (topic_tags):\n",
        "  if i==0:\n",
        "    continue\n",
        "  else:\n",
        "    topic_titles.append(tag.text.strip())\n",
        "    \n",
        "print(topic_titles)\n"
      ],
      "execution_count": 15,
      "outputs": [
        {
          "output_type": "stream",
          "name": "stdout",
          "text": [
            "['Travel', 'Mystery', 'Historical Fiction', 'Sequential Art', 'Classics', 'Philosophy', 'Romance', 'Womens Fiction', 'Fiction', 'Childrens', 'Religion', 'Nonfiction', 'Music', 'Default', 'Science Fiction', 'Sports and Games', 'Add a comment', 'Fantasy', 'New Adult', 'Young Adult', 'Science', 'Poetry', 'Paranormal', 'Art', 'Psychology', 'Autobiography', 'Parenting', 'Adult Fiction', 'Humor', 'Horror', 'History', 'Food and Drink', 'Christian Fiction', 'Business', 'Biography', 'Thriller', 'Contemporary', 'Spirituality', 'Academic', 'Self Help', 'Historical', 'Christian', 'Suspense', 'Short Stories', 'Novels', 'Health', 'Politics', 'Cultural', 'Erotica', 'Crime']\n"
          ]
        }
      ]
    },
    {
      "cell_type": "code",
      "metadata": {
        "id": "a2CiLIWzKAB6"
      },
      "source": [
        "!pip install pandas --quiet\n"
      ],
      "execution_count": 16,
      "outputs": []
    },
    {
      "cell_type": "code",
      "metadata": {
        "id": "aZkvjTFBNcFt"
      },
      "source": [
        "import pandas as pd"
      ],
      "execution_count": 17,
      "outputs": []
    },
    {
      "cell_type": "code",
      "metadata": {
        "id": "CrVh10gtSM6V"
      },
      "source": [
        "#create a csv file for all the genre and its corresponding urls.\n",
        "topics_dict = {\n",
        "    'title': topic_titles,\n",
        "    'url': topic_urls\n",
        "}\n",
        "topics_df = pd.DataFrame(topics_dict)\n",
        "#topics_df\n",
        "topics_df.to_csv('topics.csv', index=None)\n"
      ],
      "execution_count": 18,
      "outputs": []
    },
    {
      "cell_type": "markdown",
      "metadata": {
        "id": "dfYGQJzswVvX"
      },
      "source": [
        "# Obtain information from each genre"
      ]
    },
    {
      "cell_type": "code",
      "metadata": {
        "colab": {
          "base_uri": "https://localhost:8080/",
          "height": 35
        },
        "id": "fYArMi0LwbLL",
        "outputId": "2c97b35a-60dc-4516-b40f-2b3f5703f6ea"
      },
      "source": [
        "topic_page_url = topic_urls[0]\n",
        "topic_page_url"
      ],
      "execution_count": 19,
      "outputs": [
        {
          "output_type": "execute_result",
          "data": {
            "application/vnd.google.colaboratory.intrinsic+json": {
              "type": "string"
            },
            "text/plain": [
              "'http://books.toscrape.com/catalogue/category/books/travel_2/index.html'"
            ]
          },
          "metadata": {},
          "execution_count": 19
        }
      ]
    },
    {
      "cell_type": "code",
      "metadata": {
        "colab": {
          "base_uri": "https://localhost:8080/"
        },
        "id": "Ca92tGaRwizd",
        "outputId": "8ccac61c-2968-4d37-8b13-19b3bc364921"
      },
      "source": [
        "response = requests.get(topic_page_url)\n",
        "response.status_code\n"
      ],
      "execution_count": 20,
      "outputs": [
        {
          "output_type": "execute_result",
          "data": {
            "text/plain": [
              "200"
            ]
          },
          "metadata": {},
          "execution_count": 20
        }
      ]
    },
    {
      "cell_type": "code",
      "metadata": {
        "colab": {
          "base_uri": "https://localhost:8080/"
        },
        "id": "EKeu5J76wl6c",
        "outputId": "7676c2cc-3663-4424-c527-18f36b4dce0e"
      },
      "source": [
        "len(response.text)\n"
      ],
      "execution_count": 21,
      "outputs": [
        {
          "output_type": "execute_result",
          "data": {
            "text/plain": [
              "37009"
            ]
          },
          "metadata": {},
          "execution_count": 21
        }
      ]
    },
    {
      "cell_type": "code",
      "metadata": {
        "id": "ka3TDW8bwn6Q"
      },
      "source": [
        "topic_doc = BeautifulSoup(response.text, 'html.parser')\n",
        "#topic_doc\n"
      ],
      "execution_count": 22,
      "outputs": []
    },
    {
      "cell_type": "code",
      "metadata": {
        "colab": {
          "base_uri": "https://localhost:8080/"
        },
        "id": "Y9v_KzQ2ws2s",
        "outputId": "2fe83844-fb61-4a58-d76d-15aa2ac1469d"
      },
      "source": [
        "repo_tags = topic_doc.find_all('h3')\n",
        "repo_tags"
      ],
      "execution_count": 23,
      "outputs": [
        {
          "output_type": "execute_result",
          "data": {
            "text/plain": [
              "[<h3><a href=\"../../../its-only-the-himalayas_981/index.html\" title=\"It's Only the Himalayas\">It's Only the Himalayas</a></h3>,\n",
              " <h3><a href=\"../../../full-moon-over-noahs-ark-an-odyssey-to-mount-ararat-and-beyond_811/index.html\" title=\"Full Moon over Noahâs Ark: An Odyssey to Mount Ararat and Beyond\">Full Moon over Noahâs ...</a></h3>,\n",
              " <h3><a href=\"../../../see-america-a-celebration-of-our-national-parks-treasured-sites_732/index.html\" title=\"See America: A Celebration of Our National Parks &amp; Treasured Sites\">See America: A Celebration ...</a></h3>,\n",
              " <h3><a href=\"../../../vagabonding-an-uncommon-guide-to-the-art-of-long-term-world-travel_552/index.html\" title=\"Vagabonding: An Uncommon Guide to the Art of Long-Term World Travel\">Vagabonding: An Uncommon Guide ...</a></h3>,\n",
              " <h3><a href=\"../../../under-the-tuscan-sun_504/index.html\" title=\"Under the Tuscan Sun\">Under the Tuscan Sun</a></h3>,\n",
              " <h3><a href=\"../../../a-summer-in-europe_458/index.html\" title=\"A Summer In Europe\">A Summer In Europe</a></h3>,\n",
              " <h3><a href=\"../../../the-great-railway-bazaar_446/index.html\" title=\"The Great Railway Bazaar\">The Great Railway Bazaar</a></h3>,\n",
              " <h3><a href=\"../../../a-year-in-provence-provence-1_421/index.html\" title=\"A Year in Provence (Provence #1)\">A Year in Provence ...</a></h3>,\n",
              " <h3><a href=\"../../../the-road-to-little-dribbling-adventures-of-an-american-in-britain-notes-from-a-small-island-2_277/index.html\" title=\"The Road to Little Dribbling: Adventures of an American in Britain (Notes From a Small Island #2)\">The Road to Little ...</a></h3>,\n",
              " <h3><a href=\"../../../neither-here-nor-there-travels-in-europe_198/index.html\" title=\"Neither Here nor There: Travels in Europe\">Neither Here nor There: ...</a></h3>,\n",
              " <h3><a href=\"../../../1000-places-to-see-before-you-die_1/index.html\" title=\"1,000 Places to See Before You Die\">1,000 Places to See ...</a></h3>]"
            ]
          },
          "metadata": {},
          "execution_count": 23
        }
      ]
    },
    {
      "cell_type": "code",
      "metadata": {
        "colab": {
          "base_uri": "https://localhost:8080/"
        },
        "id": "rgM8_NK-y6oh",
        "outputId": "cc62d545-754f-47ff-833f-51c3399adb85"
      },
      "source": [
        "\n",
        "topic_cur_genre = []\n",
        "for i,tag in enumerate (repo_tags):\n",
        "  topic_cur_genre.append(tag.text)\n",
        "    \n",
        "print(topic_cur_genre[3])"
      ],
      "execution_count": 24,
      "outputs": [
        {
          "output_type": "stream",
          "name": "stdout",
          "text": [
            "Vagabonding: An Uncommon Guide ...\n"
          ]
        }
      ]
    },
    {
      "cell_type": "code",
      "metadata": {
        "colab": {
          "base_uri": "https://localhost:8080/"
        },
        "id": "-h7hg1340aCJ",
        "outputId": "27c50ec3-697e-4911-f007-a921d8e3610a"
      },
      "source": [
        "price_cur_genre=[]\n",
        "p_tags = topic_doc.find_all('p', {'class': 'price_color'})\n",
        "for tags in p_tags:\n",
        "  price_cur_genre.append(tags.text)\n",
        "\n",
        "print(price_cur_genre[2])"
      ],
      "execution_count": 25,
      "outputs": [
        {
          "output_type": "stream",
          "name": "stdout",
          "text": [
            "Â£48.87\n"
          ]
        }
      ]
    },
    {
      "cell_type": "code",
      "metadata": {
        "colab": {
          "base_uri": "https://localhost:8080/",
          "height": 35
        },
        "id": "RQDsDGpG03oj",
        "outputId": "1fb34853-8379-4cbb-abf7-a011ab88d0d0"
      },
      "source": [
        "avail_cur_genre=[]\n",
        "a_tags=topic_doc.find_all('p',{'class': 'instock availability'})\n",
        "for tags in a_tags:\n",
        "  avail_cur_genre.append(tags.text.strip())\n",
        "avail_cur_genre[2]"
      ],
      "execution_count": 26,
      "outputs": [
        {
          "output_type": "execute_result",
          "data": {
            "application/vnd.google.colaboratory.intrinsic+json": {
              "type": "string"
            },
            "text/plain": [
              "'In stock'"
            ]
          },
          "metadata": {},
          "execution_count": 26
        }
      ]
    },
    {
      "cell_type": "code",
      "metadata": {
        "colab": {
          "base_uri": "https://localhost:8080/",
          "height": 35
        },
        "id": "RzlGq_LS2ZWq",
        "outputId": "9d699f12-dda6-42e8-ab6e-76ad5dc1b255"
      },
      "source": [
        "h3_tags = topic_doc.find_all('h3')\n",
        "\n",
        "urls_cur_genre=[]\n",
        "base_url = \"http://books.toscrape.com/catalogue/\"\n",
        "for tag in h3_tags:\n",
        "    urls_cur_genre.append(base_url + tag.contents[0]['href'][9:])\n",
        "urls_cur_genre[2]\n",
        "\n",
        "\n"
      ],
      "execution_count": 27,
      "outputs": [
        {
          "output_type": "execute_result",
          "data": {
            "application/vnd.google.colaboratory.intrinsic+json": {
              "type": "string"
            },
            "text/plain": [
              "'http://books.toscrape.com/catalogue/see-america-a-celebration-of-our-national-parks-treasured-sites_732/index.html'"
            ]
          },
          "metadata": {},
          "execution_count": 27
        }
      ]
    },
    {
      "cell_type": "code",
      "metadata": {
        "id": "kd50ZQdD3aXf"
      },
      "source": [
        "#create a csv file for current genre book\n",
        "book_dict = {\n",
        "    'title': topic_cur_genre,\n",
        "    'price':price_cur_genre,\n",
        "    'availability':avail_cur_genre,\n",
        "    'url': urls_cur_genre\n",
        "}\n",
        "book_df = pd.DataFrame(book_dict)\n",
        "#topics_df\n",
        "book_df.to_csv('genre.csv', index=None)"
      ],
      "execution_count": 28,
      "outputs": []
    },
    {
      "cell_type": "markdown",
      "metadata": {
        "id": "tXkurOxb7dL_"
      },
      "source": [
        "# scrape all genres and create a csv file for each genre"
      ]
    },
    {
      "cell_type": "code",
      "metadata": {
        "id": "jegrQ1XR7ZM7"
      },
      "source": [
        "def get_book_page(book_url):\n",
        "    # Download the page\n",
        "    response = requests.get(book_url)\n",
        "    # Check successful response\n",
        "    if response.status_code != 200:\n",
        "        raise Exception('Failed to load page {}'.format(book_url))\n",
        "    # Parse using Beautiful soup\n",
        "    book_doc = BeautifulSoup(response.text, 'html.parser')\n",
        "    return book_doc\n"
      ],
      "execution_count": 29,
      "outputs": []
    },
    {
      "cell_type": "code",
      "metadata": {
        "id": "45Sblus2Lf_q"
      },
      "source": [
        "def get_book_info(book_doc):\n",
        "    #get all the book info for a genre\n",
        "    #get bookname\n",
        "    n_tags = book_doc.find_all('h3')\n",
        "    bookname_cur_genre = []\n",
        "    for i,tag in enumerate (n_tags):\n",
        "      bookname_cur_genre.append(tag.text)\n",
        "    #get price\n",
        "    price_cur_genre=[]\n",
        "    p_tags = topic_doc.find_all('p', {'class': 'price_color'})\n",
        "    for tags in p_tags:\n",
        "      price_cur_genre.append(tags.text[2:])\n",
        "    #getavailbility\n",
        "    avail_cur_genre=[]\n",
        "    a_tags=topic_doc.find_all('p',{'class': 'instock availability'})\n",
        "    for tags in a_tags:\n",
        "      avail_cur_genre.append(tags.text.strip())\n",
        "    #get book url\n",
        "    h3_tags = topic_doc.find_all('h3')\n",
        "    urls_cur_genre=[]\n",
        "    base_url = \"http://books.toscrape.com/catalogue/\"\n",
        "    for tag in h3_tags:\n",
        "        urls_cur_genre.append(base_url + tag.contents[0]['href'][9:])\n",
        "\n",
        "    book_dict = {\n",
        "      'title': topic_cur_genre,\n",
        "      'price':price_cur_genre,\n",
        "      'availability':avail_cur_genre,\n",
        "      'url': urls_cur_genre\n",
        "    }\n",
        "    book_df = pd.DataFrame(book_dict)\n",
        "    return book_df\n"
      ],
      "execution_count": 30,
      "outputs": []
    },
    {
      "cell_type": "code",
      "metadata": {
        "colab": {
          "base_uri": "https://localhost:8080/",
          "height": 390
        },
        "id": "yOauKxO6Rlvg",
        "outputId": "4ac37699-f854-417c-86f2-ae5f5b4d52ca"
      },
      "source": [
        "link='http://books.toscrape.com/catalogue/category/books/travel_2/index.html'\n",
        "response = requests.get(link)\n",
        "book_doc = BeautifulSoup(response.text, 'html.parser')\n",
        "#book_doc\n",
        "get_book_info(book_doc)"
      ],
      "execution_count": 31,
      "outputs": [
        {
          "output_type": "execute_result",
          "data": {
            "text/html": [
              "<div>\n",
              "<style scoped>\n",
              "    .dataframe tbody tr th:only-of-type {\n",
              "        vertical-align: middle;\n",
              "    }\n",
              "\n",
              "    .dataframe tbody tr th {\n",
              "        vertical-align: top;\n",
              "    }\n",
              "\n",
              "    .dataframe thead th {\n",
              "        text-align: right;\n",
              "    }\n",
              "</style>\n",
              "<table border=\"1\" class=\"dataframe\">\n",
              "  <thead>\n",
              "    <tr style=\"text-align: right;\">\n",
              "      <th></th>\n",
              "      <th>title</th>\n",
              "      <th>price</th>\n",
              "      <th>availability</th>\n",
              "      <th>url</th>\n",
              "    </tr>\n",
              "  </thead>\n",
              "  <tbody>\n",
              "    <tr>\n",
              "      <th>0</th>\n",
              "      <td>It's Only the Himalayas</td>\n",
              "      <td>45.17</td>\n",
              "      <td>In stock</td>\n",
              "      <td>http://books.toscrape.com/catalogue/its-only-t...</td>\n",
              "    </tr>\n",
              "    <tr>\n",
              "      <th>1</th>\n",
              "      <td>Full Moon over Noahâs ...</td>\n",
              "      <td>49.43</td>\n",
              "      <td>In stock</td>\n",
              "      <td>http://books.toscrape.com/catalogue/full-moon-...</td>\n",
              "    </tr>\n",
              "    <tr>\n",
              "      <th>2</th>\n",
              "      <td>See America: A Celebration ...</td>\n",
              "      <td>48.87</td>\n",
              "      <td>In stock</td>\n",
              "      <td>http://books.toscrape.com/catalogue/see-americ...</td>\n",
              "    </tr>\n",
              "    <tr>\n",
              "      <th>3</th>\n",
              "      <td>Vagabonding: An Uncommon Guide ...</td>\n",
              "      <td>36.94</td>\n",
              "      <td>In stock</td>\n",
              "      <td>http://books.toscrape.com/catalogue/vagabondin...</td>\n",
              "    </tr>\n",
              "    <tr>\n",
              "      <th>4</th>\n",
              "      <td>Under the Tuscan Sun</td>\n",
              "      <td>37.33</td>\n",
              "      <td>In stock</td>\n",
              "      <td>http://books.toscrape.com/catalogue/under-the-...</td>\n",
              "    </tr>\n",
              "    <tr>\n",
              "      <th>5</th>\n",
              "      <td>A Summer In Europe</td>\n",
              "      <td>44.34</td>\n",
              "      <td>In stock</td>\n",
              "      <td>http://books.toscrape.com/catalogue/a-summer-i...</td>\n",
              "    </tr>\n",
              "    <tr>\n",
              "      <th>6</th>\n",
              "      <td>The Great Railway Bazaar</td>\n",
              "      <td>30.54</td>\n",
              "      <td>In stock</td>\n",
              "      <td>http://books.toscrape.com/catalogue/the-great-...</td>\n",
              "    </tr>\n",
              "    <tr>\n",
              "      <th>7</th>\n",
              "      <td>A Year in Provence ...</td>\n",
              "      <td>56.88</td>\n",
              "      <td>In stock</td>\n",
              "      <td>http://books.toscrape.com/catalogue/a-year-in-...</td>\n",
              "    </tr>\n",
              "    <tr>\n",
              "      <th>8</th>\n",
              "      <td>The Road to Little ...</td>\n",
              "      <td>23.21</td>\n",
              "      <td>In stock</td>\n",
              "      <td>http://books.toscrape.com/catalogue/the-road-t...</td>\n",
              "    </tr>\n",
              "    <tr>\n",
              "      <th>9</th>\n",
              "      <td>Neither Here nor There: ...</td>\n",
              "      <td>38.95</td>\n",
              "      <td>In stock</td>\n",
              "      <td>http://books.toscrape.com/catalogue/neither-he...</td>\n",
              "    </tr>\n",
              "    <tr>\n",
              "      <th>10</th>\n",
              "      <td>1,000 Places to See ...</td>\n",
              "      <td>26.08</td>\n",
              "      <td>In stock</td>\n",
              "      <td>http://books.toscrape.com/catalogue/1000-place...</td>\n",
              "    </tr>\n",
              "  </tbody>\n",
              "</table>\n",
              "</div>"
            ],
            "text/plain": [
              "                                 title  ...                                                url\n",
              "0              It's Only the Himalayas  ...  http://books.toscrape.com/catalogue/its-only-t...\n",
              "1          Full Moon over Noahâs ...  ...  http://books.toscrape.com/catalogue/full-moon-...\n",
              "2       See America: A Celebration ...  ...  http://books.toscrape.com/catalogue/see-americ...\n",
              "3   Vagabonding: An Uncommon Guide ...  ...  http://books.toscrape.com/catalogue/vagabondin...\n",
              "4                 Under the Tuscan Sun  ...  http://books.toscrape.com/catalogue/under-the-...\n",
              "5                   A Summer In Europe  ...  http://books.toscrape.com/catalogue/a-summer-i...\n",
              "6             The Great Railway Bazaar  ...  http://books.toscrape.com/catalogue/the-great-...\n",
              "7               A Year in Provence ...  ...  http://books.toscrape.com/catalogue/a-year-in-...\n",
              "8               The Road to Little ...  ...  http://books.toscrape.com/catalogue/the-road-t...\n",
              "9          Neither Here nor There: ...  ...  http://books.toscrape.com/catalogue/neither-he...\n",
              "10             1,000 Places to See ...  ...  http://books.toscrape.com/catalogue/1000-place...\n",
              "\n",
              "[11 rows x 4 columns]"
            ]
          },
          "metadata": {},
          "execution_count": 31
        }
      ]
    },
    {
      "cell_type": "code",
      "metadata": {
        "id": "d27QZup2Q0od"
      },
      "source": [
        "def scrape_topic(genre_url, path):\n",
        "    if os.path.exists(path):\n",
        "        print(\"The file {} already exists. Skipping...\".format(path))\n",
        "        return\n",
        "    book_df = get_book_info(get_book_page(genre_url))\n",
        "    book_df.to_csv(path, index=None)\n"
      ],
      "execution_count": 32,
      "outputs": []
    },
    {
      "cell_type": "code",
      "metadata": {
        "colab": {
          "base_uri": "https://localhost:8080/",
          "height": 1000
        },
        "id": "Ac5XapJRciFH",
        "outputId": "8f76dd0f-6f5a-4e38-f0c3-7938d6f5a002"
      },
      "source": [
        "topics_df"
      ],
      "execution_count": 33,
      "outputs": [
        {
          "output_type": "execute_result",
          "data": {
            "text/html": [
              "<div>\n",
              "<style scoped>\n",
              "    .dataframe tbody tr th:only-of-type {\n",
              "        vertical-align: middle;\n",
              "    }\n",
              "\n",
              "    .dataframe tbody tr th {\n",
              "        vertical-align: top;\n",
              "    }\n",
              "\n",
              "    .dataframe thead th {\n",
              "        text-align: right;\n",
              "    }\n",
              "</style>\n",
              "<table border=\"1\" class=\"dataframe\">\n",
              "  <thead>\n",
              "    <tr style=\"text-align: right;\">\n",
              "      <th></th>\n",
              "      <th>title</th>\n",
              "      <th>url</th>\n",
              "    </tr>\n",
              "  </thead>\n",
              "  <tbody>\n",
              "    <tr>\n",
              "      <th>0</th>\n",
              "      <td>Travel</td>\n",
              "      <td>http://books.toscrape.com/catalogue/category/b...</td>\n",
              "    </tr>\n",
              "    <tr>\n",
              "      <th>1</th>\n",
              "      <td>Mystery</td>\n",
              "      <td>http://books.toscrape.com/catalogue/category/b...</td>\n",
              "    </tr>\n",
              "    <tr>\n",
              "      <th>2</th>\n",
              "      <td>Historical Fiction</td>\n",
              "      <td>http://books.toscrape.com/catalogue/category/b...</td>\n",
              "    </tr>\n",
              "    <tr>\n",
              "      <th>3</th>\n",
              "      <td>Sequential Art</td>\n",
              "      <td>http://books.toscrape.com/catalogue/category/b...</td>\n",
              "    </tr>\n",
              "    <tr>\n",
              "      <th>4</th>\n",
              "      <td>Classics</td>\n",
              "      <td>http://books.toscrape.com/catalogue/category/b...</td>\n",
              "    </tr>\n",
              "    <tr>\n",
              "      <th>5</th>\n",
              "      <td>Philosophy</td>\n",
              "      <td>http://books.toscrape.com/catalogue/category/b...</td>\n",
              "    </tr>\n",
              "    <tr>\n",
              "      <th>6</th>\n",
              "      <td>Romance</td>\n",
              "      <td>http://books.toscrape.com/catalogue/category/b...</td>\n",
              "    </tr>\n",
              "    <tr>\n",
              "      <th>7</th>\n",
              "      <td>Womens Fiction</td>\n",
              "      <td>http://books.toscrape.com/catalogue/category/b...</td>\n",
              "    </tr>\n",
              "    <tr>\n",
              "      <th>8</th>\n",
              "      <td>Fiction</td>\n",
              "      <td>http://books.toscrape.com/catalogue/category/b...</td>\n",
              "    </tr>\n",
              "    <tr>\n",
              "      <th>9</th>\n",
              "      <td>Childrens</td>\n",
              "      <td>http://books.toscrape.com/catalogue/category/b...</td>\n",
              "    </tr>\n",
              "    <tr>\n",
              "      <th>10</th>\n",
              "      <td>Religion</td>\n",
              "      <td>http://books.toscrape.com/catalogue/category/b...</td>\n",
              "    </tr>\n",
              "    <tr>\n",
              "      <th>11</th>\n",
              "      <td>Nonfiction</td>\n",
              "      <td>http://books.toscrape.com/catalogue/category/b...</td>\n",
              "    </tr>\n",
              "    <tr>\n",
              "      <th>12</th>\n",
              "      <td>Music</td>\n",
              "      <td>http://books.toscrape.com/catalogue/category/b...</td>\n",
              "    </tr>\n",
              "    <tr>\n",
              "      <th>13</th>\n",
              "      <td>Default</td>\n",
              "      <td>http://books.toscrape.com/catalogue/category/b...</td>\n",
              "    </tr>\n",
              "    <tr>\n",
              "      <th>14</th>\n",
              "      <td>Science Fiction</td>\n",
              "      <td>http://books.toscrape.com/catalogue/category/b...</td>\n",
              "    </tr>\n",
              "    <tr>\n",
              "      <th>15</th>\n",
              "      <td>Sports and Games</td>\n",
              "      <td>http://books.toscrape.com/catalogue/category/b...</td>\n",
              "    </tr>\n",
              "    <tr>\n",
              "      <th>16</th>\n",
              "      <td>Add a comment</td>\n",
              "      <td>http://books.toscrape.com/catalogue/category/b...</td>\n",
              "    </tr>\n",
              "    <tr>\n",
              "      <th>17</th>\n",
              "      <td>Fantasy</td>\n",
              "      <td>http://books.toscrape.com/catalogue/category/b...</td>\n",
              "    </tr>\n",
              "    <tr>\n",
              "      <th>18</th>\n",
              "      <td>New Adult</td>\n",
              "      <td>http://books.toscrape.com/catalogue/category/b...</td>\n",
              "    </tr>\n",
              "    <tr>\n",
              "      <th>19</th>\n",
              "      <td>Young Adult</td>\n",
              "      <td>http://books.toscrape.com/catalogue/category/b...</td>\n",
              "    </tr>\n",
              "    <tr>\n",
              "      <th>20</th>\n",
              "      <td>Science</td>\n",
              "      <td>http://books.toscrape.com/catalogue/category/b...</td>\n",
              "    </tr>\n",
              "    <tr>\n",
              "      <th>21</th>\n",
              "      <td>Poetry</td>\n",
              "      <td>http://books.toscrape.com/catalogue/category/b...</td>\n",
              "    </tr>\n",
              "    <tr>\n",
              "      <th>22</th>\n",
              "      <td>Paranormal</td>\n",
              "      <td>http://books.toscrape.com/catalogue/category/b...</td>\n",
              "    </tr>\n",
              "    <tr>\n",
              "      <th>23</th>\n",
              "      <td>Art</td>\n",
              "      <td>http://books.toscrape.com/catalogue/category/b...</td>\n",
              "    </tr>\n",
              "    <tr>\n",
              "      <th>24</th>\n",
              "      <td>Psychology</td>\n",
              "      <td>http://books.toscrape.com/catalogue/category/b...</td>\n",
              "    </tr>\n",
              "    <tr>\n",
              "      <th>25</th>\n",
              "      <td>Autobiography</td>\n",
              "      <td>http://books.toscrape.com/catalogue/category/b...</td>\n",
              "    </tr>\n",
              "    <tr>\n",
              "      <th>26</th>\n",
              "      <td>Parenting</td>\n",
              "      <td>http://books.toscrape.com/catalogue/category/b...</td>\n",
              "    </tr>\n",
              "    <tr>\n",
              "      <th>27</th>\n",
              "      <td>Adult Fiction</td>\n",
              "      <td>http://books.toscrape.com/catalogue/category/b...</td>\n",
              "    </tr>\n",
              "    <tr>\n",
              "      <th>28</th>\n",
              "      <td>Humor</td>\n",
              "      <td>http://books.toscrape.com/catalogue/category/b...</td>\n",
              "    </tr>\n",
              "    <tr>\n",
              "      <th>29</th>\n",
              "      <td>Horror</td>\n",
              "      <td>http://books.toscrape.com/catalogue/category/b...</td>\n",
              "    </tr>\n",
              "    <tr>\n",
              "      <th>30</th>\n",
              "      <td>History</td>\n",
              "      <td>http://books.toscrape.com/catalogue/category/b...</td>\n",
              "    </tr>\n",
              "    <tr>\n",
              "      <th>31</th>\n",
              "      <td>Food and Drink</td>\n",
              "      <td>http://books.toscrape.com/catalogue/category/b...</td>\n",
              "    </tr>\n",
              "    <tr>\n",
              "      <th>32</th>\n",
              "      <td>Christian Fiction</td>\n",
              "      <td>http://books.toscrape.com/catalogue/category/b...</td>\n",
              "    </tr>\n",
              "    <tr>\n",
              "      <th>33</th>\n",
              "      <td>Business</td>\n",
              "      <td>http://books.toscrape.com/catalogue/category/b...</td>\n",
              "    </tr>\n",
              "    <tr>\n",
              "      <th>34</th>\n",
              "      <td>Biography</td>\n",
              "      <td>http://books.toscrape.com/catalogue/category/b...</td>\n",
              "    </tr>\n",
              "    <tr>\n",
              "      <th>35</th>\n",
              "      <td>Thriller</td>\n",
              "      <td>http://books.toscrape.com/catalogue/category/b...</td>\n",
              "    </tr>\n",
              "    <tr>\n",
              "      <th>36</th>\n",
              "      <td>Contemporary</td>\n",
              "      <td>http://books.toscrape.com/catalogue/category/b...</td>\n",
              "    </tr>\n",
              "    <tr>\n",
              "      <th>37</th>\n",
              "      <td>Spirituality</td>\n",
              "      <td>http://books.toscrape.com/catalogue/category/b...</td>\n",
              "    </tr>\n",
              "    <tr>\n",
              "      <th>38</th>\n",
              "      <td>Academic</td>\n",
              "      <td>http://books.toscrape.com/catalogue/category/b...</td>\n",
              "    </tr>\n",
              "    <tr>\n",
              "      <th>39</th>\n",
              "      <td>Self Help</td>\n",
              "      <td>http://books.toscrape.com/catalogue/category/b...</td>\n",
              "    </tr>\n",
              "    <tr>\n",
              "      <th>40</th>\n",
              "      <td>Historical</td>\n",
              "      <td>http://books.toscrape.com/catalogue/category/b...</td>\n",
              "    </tr>\n",
              "    <tr>\n",
              "      <th>41</th>\n",
              "      <td>Christian</td>\n",
              "      <td>http://books.toscrape.com/catalogue/category/b...</td>\n",
              "    </tr>\n",
              "    <tr>\n",
              "      <th>42</th>\n",
              "      <td>Suspense</td>\n",
              "      <td>http://books.toscrape.com/catalogue/category/b...</td>\n",
              "    </tr>\n",
              "    <tr>\n",
              "      <th>43</th>\n",
              "      <td>Short Stories</td>\n",
              "      <td>http://books.toscrape.com/catalogue/category/b...</td>\n",
              "    </tr>\n",
              "    <tr>\n",
              "      <th>44</th>\n",
              "      <td>Novels</td>\n",
              "      <td>http://books.toscrape.com/catalogue/category/b...</td>\n",
              "    </tr>\n",
              "    <tr>\n",
              "      <th>45</th>\n",
              "      <td>Health</td>\n",
              "      <td>http://books.toscrape.com/catalogue/category/b...</td>\n",
              "    </tr>\n",
              "    <tr>\n",
              "      <th>46</th>\n",
              "      <td>Politics</td>\n",
              "      <td>http://books.toscrape.com/catalogue/category/b...</td>\n",
              "    </tr>\n",
              "    <tr>\n",
              "      <th>47</th>\n",
              "      <td>Cultural</td>\n",
              "      <td>http://books.toscrape.com/catalogue/category/b...</td>\n",
              "    </tr>\n",
              "    <tr>\n",
              "      <th>48</th>\n",
              "      <td>Erotica</td>\n",
              "      <td>http://books.toscrape.com/catalogue/category/b...</td>\n",
              "    </tr>\n",
              "    <tr>\n",
              "      <th>49</th>\n",
              "      <td>Crime</td>\n",
              "      <td>http://books.toscrape.com/catalogue/category/b...</td>\n",
              "    </tr>\n",
              "  </tbody>\n",
              "</table>\n",
              "</div>"
            ],
            "text/plain": [
              "                 title                                                url\n",
              "0               Travel  http://books.toscrape.com/catalogue/category/b...\n",
              "1              Mystery  http://books.toscrape.com/catalogue/category/b...\n",
              "2   Historical Fiction  http://books.toscrape.com/catalogue/category/b...\n",
              "3       Sequential Art  http://books.toscrape.com/catalogue/category/b...\n",
              "4             Classics  http://books.toscrape.com/catalogue/category/b...\n",
              "5           Philosophy  http://books.toscrape.com/catalogue/category/b...\n",
              "6              Romance  http://books.toscrape.com/catalogue/category/b...\n",
              "7       Womens Fiction  http://books.toscrape.com/catalogue/category/b...\n",
              "8              Fiction  http://books.toscrape.com/catalogue/category/b...\n",
              "9            Childrens  http://books.toscrape.com/catalogue/category/b...\n",
              "10            Religion  http://books.toscrape.com/catalogue/category/b...\n",
              "11          Nonfiction  http://books.toscrape.com/catalogue/category/b...\n",
              "12               Music  http://books.toscrape.com/catalogue/category/b...\n",
              "13             Default  http://books.toscrape.com/catalogue/category/b...\n",
              "14     Science Fiction  http://books.toscrape.com/catalogue/category/b...\n",
              "15    Sports and Games  http://books.toscrape.com/catalogue/category/b...\n",
              "16       Add a comment  http://books.toscrape.com/catalogue/category/b...\n",
              "17             Fantasy  http://books.toscrape.com/catalogue/category/b...\n",
              "18           New Adult  http://books.toscrape.com/catalogue/category/b...\n",
              "19         Young Adult  http://books.toscrape.com/catalogue/category/b...\n",
              "20             Science  http://books.toscrape.com/catalogue/category/b...\n",
              "21              Poetry  http://books.toscrape.com/catalogue/category/b...\n",
              "22          Paranormal  http://books.toscrape.com/catalogue/category/b...\n",
              "23                 Art  http://books.toscrape.com/catalogue/category/b...\n",
              "24          Psychology  http://books.toscrape.com/catalogue/category/b...\n",
              "25       Autobiography  http://books.toscrape.com/catalogue/category/b...\n",
              "26           Parenting  http://books.toscrape.com/catalogue/category/b...\n",
              "27       Adult Fiction  http://books.toscrape.com/catalogue/category/b...\n",
              "28               Humor  http://books.toscrape.com/catalogue/category/b...\n",
              "29              Horror  http://books.toscrape.com/catalogue/category/b...\n",
              "30             History  http://books.toscrape.com/catalogue/category/b...\n",
              "31      Food and Drink  http://books.toscrape.com/catalogue/category/b...\n",
              "32   Christian Fiction  http://books.toscrape.com/catalogue/category/b...\n",
              "33            Business  http://books.toscrape.com/catalogue/category/b...\n",
              "34           Biography  http://books.toscrape.com/catalogue/category/b...\n",
              "35            Thriller  http://books.toscrape.com/catalogue/category/b...\n",
              "36        Contemporary  http://books.toscrape.com/catalogue/category/b...\n",
              "37        Spirituality  http://books.toscrape.com/catalogue/category/b...\n",
              "38            Academic  http://books.toscrape.com/catalogue/category/b...\n",
              "39           Self Help  http://books.toscrape.com/catalogue/category/b...\n",
              "40          Historical  http://books.toscrape.com/catalogue/category/b...\n",
              "41           Christian  http://books.toscrape.com/catalogue/category/b...\n",
              "42            Suspense  http://books.toscrape.com/catalogue/category/b...\n",
              "43       Short Stories  http://books.toscrape.com/catalogue/category/b...\n",
              "44              Novels  http://books.toscrape.com/catalogue/category/b...\n",
              "45              Health  http://books.toscrape.com/catalogue/category/b...\n",
              "46            Politics  http://books.toscrape.com/catalogue/category/b...\n",
              "47            Cultural  http://books.toscrape.com/catalogue/category/b...\n",
              "48             Erotica  http://books.toscrape.com/catalogue/category/b...\n",
              "49               Crime  http://books.toscrape.com/catalogue/category/b..."
            ]
          },
          "metadata": {},
          "execution_count": 33
        }
      ]
    },
    {
      "cell_type": "code",
      "metadata": {
        "id": "UpBBDk7Dczzb"
      },
      "source": [
        "import os\n",
        "def scrape_topics_books():\n",
        "    print('Scraping list of topics')\n",
        "    topics_df1 = topics_df\n",
        "    \n",
        "    os.makedirs('data', exist_ok=True)\n",
        "    for index, row in topics_df1.iterrows():\n",
        "        print('Scraping top repositories for \"{}\"'.format(row['title']))\n",
        "        scrape_topic(row['url'], 'data/{}.csv'.format(row['title']))"
      ],
      "execution_count": 34,
      "outputs": []
    },
    {
      "cell_type": "code",
      "metadata": {
        "colab": {
          "base_uri": "https://localhost:8080/"
        },
        "id": "Qh91USbTehY5",
        "outputId": "c05d49bb-c25a-48ee-8c9f-091d8b9b367c"
      },
      "source": [
        "scrape_topics_books()"
      ],
      "execution_count": 35,
      "outputs": [
        {
          "output_type": "stream",
          "name": "stdout",
          "text": [
            "Scraping list of topics\n",
            "Scraping top repositories for \"Travel\"\n",
            "Scraping top repositories for \"Mystery\"\n",
            "Scraping top repositories for \"Historical Fiction\"\n",
            "Scraping top repositories for \"Sequential Art\"\n",
            "Scraping top repositories for \"Classics\"\n",
            "Scraping top repositories for \"Philosophy\"\n",
            "Scraping top repositories for \"Romance\"\n",
            "Scraping top repositories for \"Womens Fiction\"\n",
            "Scraping top repositories for \"Fiction\"\n",
            "Scraping top repositories for \"Childrens\"\n",
            "Scraping top repositories for \"Religion\"\n",
            "Scraping top repositories for \"Nonfiction\"\n",
            "Scraping top repositories for \"Music\"\n",
            "Scraping top repositories for \"Default\"\n",
            "Scraping top repositories for \"Science Fiction\"\n",
            "Scraping top repositories for \"Sports and Games\"\n",
            "Scraping top repositories for \"Add a comment\"\n",
            "Scraping top repositories for \"Fantasy\"\n",
            "Scraping top repositories for \"New Adult\"\n",
            "Scraping top repositories for \"Young Adult\"\n",
            "Scraping top repositories for \"Science\"\n",
            "Scraping top repositories for \"Poetry\"\n",
            "Scraping top repositories for \"Paranormal\"\n",
            "Scraping top repositories for \"Art\"\n",
            "Scraping top repositories for \"Psychology\"\n",
            "Scraping top repositories for \"Autobiography\"\n",
            "Scraping top repositories for \"Parenting\"\n",
            "Scraping top repositories for \"Adult Fiction\"\n",
            "Scraping top repositories for \"Humor\"\n",
            "Scraping top repositories for \"Horror\"\n",
            "Scraping top repositories for \"History\"\n",
            "Scraping top repositories for \"Food and Drink\"\n",
            "Scraping top repositories for \"Christian Fiction\"\n",
            "Scraping top repositories for \"Business\"\n",
            "Scraping top repositories for \"Biography\"\n",
            "Scraping top repositories for \"Thriller\"\n",
            "Scraping top repositories for \"Contemporary\"\n",
            "Scraping top repositories for \"Spirituality\"\n",
            "Scraping top repositories for \"Academic\"\n",
            "Scraping top repositories for \"Self Help\"\n",
            "Scraping top repositories for \"Historical\"\n",
            "Scraping top repositories for \"Christian\"\n",
            "Scraping top repositories for \"Suspense\"\n",
            "Scraping top repositories for \"Short Stories\"\n",
            "Scraping top repositories for \"Novels\"\n",
            "Scraping top repositories for \"Health\"\n",
            "Scraping top repositories for \"Politics\"\n",
            "Scraping top repositories for \"Cultural\"\n",
            "Scraping top repositories for \"Erotica\"\n",
            "Scraping top repositories for \"Crime\"\n"
          ]
        }
      ]
    }
  ]
}